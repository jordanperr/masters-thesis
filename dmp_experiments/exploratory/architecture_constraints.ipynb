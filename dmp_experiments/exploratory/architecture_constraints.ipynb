{
 "cells": [
  {
   "cell_type": "markdown",
   "metadata": {},
   "source": [
    "Use some sort of alternate format to determine the shape in a dense nn.\n",
    "Represent network as a weight tensor, and then implement constriaints on the weights in order to replicate convolutional neural net or recurrent neural net. Hypothesis:\n",
    "\n",
    "- Regular constraints in the x/y dimension will mimick convolutional neural network and add spatial dependence\n",
    "- Regular constrinats in the z dimension will mimick recurrent neural network and add temporal constraint\n",
    "\n",
    "What does the loss landscape look like in this enlarged model? Here, the loss landscape of any single architecture is a slice? projection?"
   ]
  },
  {
   "cell_type": "markdown",
   "metadata": {},
   "source": []
  }
 ],
 "metadata": {
  "language_info": {
   "name": "python"
  },
  "orig_nbformat": 4
 },
 "nbformat": 4,
 "nbformat_minor": 2
}
