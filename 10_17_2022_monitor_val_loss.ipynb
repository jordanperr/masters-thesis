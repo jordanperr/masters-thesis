{
 "cells": [
  {
   "cell_type": "code",
   "execution_count": 1,
   "metadata": {},
   "outputs": [],
   "source": [
    "import numpy as np\n",
    "import matplotlib.pyplot as plt\n",
    "import pandas as pd\n",
    "import tensorflow as tf\n",
    "\n",
    "import onnx\n",
    "import onnx_tf\n",
    "import onnxruntime\n",
    "\n",
    "rng = np.random.default_rng()"
   ]
  },
  {
   "cell_type": "code",
   "execution_count": 2,
   "metadata": {},
   "outputs": [],
   "source": [
    "import scipy.stats.qmc"
   ]
  },
  {
   "cell_type": "markdown",
   "metadata": {},
   "source": [
    "# Study whether QMC sampling can improve distillation efficieny\n",
    "\n",
    "## Data-Free case"
   ]
  },
  {
   "cell_type": "code",
   "execution_count": 3,
   "metadata": {},
   "outputs": [
    {
     "name": "stderr",
     "output_type": "stream",
     "text": [
      "2022-10-17 11:26:52.998270: I tensorflow/core/platform/cpu_feature_guard.cc:193] This TensorFlow binary is optimized with oneAPI Deep Neural Network Library (oneDNN) to use the following CPU instructions in performance-critical operations:  AVX2 FMA\n",
      "To enable them in other operations, rebuild TensorFlow with the appropriate compiler flags.\n"
     ]
    }
   ],
   "source": [
    "acas_xu = onnx.load(\"/Users/jperrsau/cu-src/thesis/src/nnenum/examples/acasxu/data/ACASXU_run2a_1_1_batch_2000.onnx\")\n",
    "\n",
    "acas_xu = onnx_tf.backend.prepare(acas_xu)\n",
    "\n",
    "inputs = (rng.random((4096,1,1,5),dtype=\"float32\")-0.5)*2\n",
    "#inputs = (np.array(scipy.stats.qmc.Sobol(5).random_base2(int(np.log2(2048))), dtype=\"float32\").reshape((2048,1,1,5))-0.5)*2\n",
    "\n",
    "onnx_outputs = acas_xu.run(inputs)\n",
    "\n",
    "outputs = onnx_outputs.linear_7_Add"
   ]
  },
  {
   "cell_type": "markdown",
   "metadata": {},
   "source": [
    "## Train student network using Data-Free Distillation"
   ]
  },
  {
   "cell_type": "code",
   "execution_count": 5,
   "metadata": {},
   "outputs": [],
   "source": [
    "## Generate synthetic dataset using a random distribution.\n",
    "\n",
    "synthetic_inputs = (rng.random((4096,1,1,5),dtype=\"float32\")-0.5)*2\n",
    "\n",
    "onnx_outputs = acas_xu.run(synthetic_inputs)\n",
    "\n",
    "synthetic_inputs_train = synthetic_inputs.reshape((4096,5))[:3000]\n",
    "synthetic_outputs_train = onnx_outputs.linear_7_Add[:3000]\n",
    "\n",
    "\n",
    "synthetic_inputs_val = synthetic_inputs.reshape((4096,5))[3000:]\n",
    "synthetic_outputs_val = onnx_outputs.linear_7_Add[3000:]\n"
   ]
  },
  {
   "cell_type": "code",
   "execution_count": 22,
   "metadata": {},
   "outputs": [
    {
     "name": "stdout",
     "output_type": "stream",
     "text": [
      "Model: \"sequential_3\"\n",
      "_________________________________________________________________\n",
      " Layer (type)                Output Shape              Param #   \n",
      "=================================================================\n",
      " dense_19 (Dense)            (None, 50)                300       \n",
      "                                                                 \n",
      " dense_20 (Dense)            (None, 50)                2550      \n",
      "                                                                 \n",
      " dense_21 (Dense)            (None, 50)                2550      \n",
      "                                                                 \n",
      " dense_22 (Dense)            (None, 50)                2550      \n",
      "                                                                 \n",
      " dense_23 (Dense)            (None, 50)                2550      \n",
      "                                                                 \n",
      " dense_24 (Dense)            (None, 50)                2550      \n",
      "                                                                 \n",
      " dense_25 (Dense)            (None, 50)                2550      \n",
      "                                                                 \n",
      " dense_26 (Dense)            (None, 50)                2550      \n",
      "                                                                 \n",
      " dense_27 (Dense)            (None, 5)                 255       \n",
      "                                                                 \n",
      "=================================================================\n",
      "Total params: 18,405\n",
      "Trainable params: 18,405\n",
      "Non-trainable params: 0\n",
      "_________________________________________________________________\n",
      "Epoch 1/500\n",
      "24/24 [==============================] - 1s 9ms/step - loss: 1.7064 - mean_squared_error: 1.7064 - val_loss: 1.5831 - val_mean_squared_error: 1.5831\n",
      "Epoch 2/500\n",
      "24/24 [==============================] - 0s 4ms/step - loss: 1.0275 - mean_squared_error: 1.0275 - val_loss: 0.6405 - val_mean_squared_error: 0.6405\n",
      "Epoch 3/500\n",
      "24/24 [==============================] - 0s 4ms/step - loss: 0.3638 - mean_squared_error: 0.3638 - val_loss: 0.3103 - val_mean_squared_error: 0.3103\n",
      "Epoch 4/500\n",
      "24/24 [==============================] - 0s 4ms/step - loss: 0.1911 - mean_squared_error: 0.1911 - val_loss: 0.1508 - val_mean_squared_error: 0.1508\n",
      "Epoch 5/500\n",
      "24/24 [==============================] - 0s 4ms/step - loss: 0.1158 - mean_squared_error: 0.1158 - val_loss: 0.1204 - val_mean_squared_error: 0.1204\n",
      "Epoch 6/500\n",
      "24/24 [==============================] - 0s 5ms/step - loss: 0.1014 - mean_squared_error: 0.1014 - val_loss: 0.1226 - val_mean_squared_error: 0.1226\n",
      "Epoch 7/500\n",
      "24/24 [==============================] - 0s 4ms/step - loss: 0.0874 - mean_squared_error: 0.0874 - val_loss: 0.0971 - val_mean_squared_error: 0.0971\n",
      "Epoch 8/500\n",
      "24/24 [==============================] - 0s 4ms/step - loss: 0.0773 - mean_squared_error: 0.0773 - val_loss: 0.0896 - val_mean_squared_error: 0.0896\n",
      "Epoch 9/500\n",
      "24/24 [==============================] - 0s 4ms/step - loss: 0.0698 - mean_squared_error: 0.0698 - val_loss: 0.0777 - val_mean_squared_error: 0.0777\n",
      "Epoch 10/500\n",
      "24/24 [==============================] - 0s 3ms/step - loss: 0.0648 - mean_squared_error: 0.0648 - val_loss: 0.0819 - val_mean_squared_error: 0.0819\n",
      "Epoch 11/500\n",
      "24/24 [==============================] - 0s 3ms/step - loss: 0.0611 - mean_squared_error: 0.0611 - val_loss: 0.0709 - val_mean_squared_error: 0.0709\n",
      "Epoch 12/500\n",
      "24/24 [==============================] - 0s 3ms/step - loss: 0.0622 - mean_squared_error: 0.0622 - val_loss: 0.0701 - val_mean_squared_error: 0.0701\n",
      "Epoch 13/500\n",
      "24/24 [==============================] - 0s 3ms/step - loss: 0.0534 - mean_squared_error: 0.0534 - val_loss: 0.0651 - val_mean_squared_error: 0.0651\n",
      "Epoch 14/500\n",
      "24/24 [==============================] - 0s 4ms/step - loss: 0.0544 - mean_squared_error: 0.0544 - val_loss: 0.0653 - val_mean_squared_error: 0.0653\n",
      "Epoch 15/500\n",
      "24/24 [==============================] - 0s 5ms/step - loss: 0.0518 - mean_squared_error: 0.0518 - val_loss: 0.0688 - val_mean_squared_error: 0.0688\n",
      "Epoch 16/500\n",
      "24/24 [==============================] - 0s 5ms/step - loss: 0.0489 - mean_squared_error: 0.0489 - val_loss: 0.0627 - val_mean_squared_error: 0.0627\n",
      "Epoch 17/500\n",
      "24/24 [==============================] - 0s 4ms/step - loss: 0.0482 - mean_squared_error: 0.0482 - val_loss: 0.0690 - val_mean_squared_error: 0.0690\n",
      "Epoch 18/500\n",
      "24/24 [==============================] - 0s 4ms/step - loss: 0.0465 - mean_squared_error: 0.0465 - val_loss: 0.0710 - val_mean_squared_error: 0.0710\n",
      "Epoch 19/500\n",
      "24/24 [==============================] - 0s 3ms/step - loss: 0.0458 - mean_squared_error: 0.0458 - val_loss: 0.0567 - val_mean_squared_error: 0.0567\n",
      "Epoch 20/500\n",
      "24/24 [==============================] - 0s 3ms/step - loss: 0.0449 - mean_squared_error: 0.0449 - val_loss: 0.0547 - val_mean_squared_error: 0.0547\n",
      "Epoch 21/500\n",
      "24/24 [==============================] - 0s 3ms/step - loss: 0.0428 - mean_squared_error: 0.0428 - val_loss: 0.0567 - val_mean_squared_error: 0.0567\n",
      "Epoch 22/500\n",
      "24/24 [==============================] - 0s 3ms/step - loss: 0.0401 - mean_squared_error: 0.0401 - val_loss: 0.0499 - val_mean_squared_error: 0.0499\n",
      "Epoch 23/500\n",
      "24/24 [==============================] - 0s 3ms/step - loss: 0.0380 - mean_squared_error: 0.0380 - val_loss: 0.0523 - val_mean_squared_error: 0.0523\n",
      "Epoch 24/500\n",
      "24/24 [==============================] - 0s 4ms/step - loss: 0.0374 - mean_squared_error: 0.0374 - val_loss: 0.0516 - val_mean_squared_error: 0.0516\n",
      "Epoch 25/500\n",
      "24/24 [==============================] - 0s 4ms/step - loss: 0.0397 - mean_squared_error: 0.0397 - val_loss: 0.0655 - val_mean_squared_error: 0.0655\n",
      "Epoch 26/500\n",
      "24/24 [==============================] - 0s 3ms/step - loss: 0.0398 - mean_squared_error: 0.0398 - val_loss: 0.0520 - val_mean_squared_error: 0.0520\n",
      "Epoch 27/500\n",
      "24/24 [==============================] - 0s 5ms/step - loss: 0.0364 - mean_squared_error: 0.0364 - val_loss: 0.0497 - val_mean_squared_error: 0.0497\n",
      "Epoch 28/500\n",
      "24/24 [==============================] - 0s 4ms/step - loss: 0.0366 - mean_squared_error: 0.0366 - val_loss: 0.0527 - val_mean_squared_error: 0.0527\n",
      "Epoch 29/500\n",
      "24/24 [==============================] - 0s 3ms/step - loss: 0.0312 - mean_squared_error: 0.0312 - val_loss: 0.0509 - val_mean_squared_error: 0.0509\n",
      "Epoch 30/500\n",
      "24/24 [==============================] - 0s 4ms/step - loss: 0.0317 - mean_squared_error: 0.0317 - val_loss: 0.0464 - val_mean_squared_error: 0.0464\n",
      "Epoch 31/500\n",
      "24/24 [==============================] - 0s 4ms/step - loss: 0.0313 - mean_squared_error: 0.0313 - val_loss: 0.0477 - val_mean_squared_error: 0.0477\n",
      "Epoch 32/500\n",
      "24/24 [==============================] - 0s 4ms/step - loss: 0.0298 - mean_squared_error: 0.0298 - val_loss: 0.0479 - val_mean_squared_error: 0.0479\n",
      "Epoch 33/500\n",
      "24/24 [==============================] - 0s 4ms/step - loss: 0.0285 - mean_squared_error: 0.0285 - val_loss: 0.0443 - val_mean_squared_error: 0.0443\n",
      "Epoch 34/500\n",
      "24/24 [==============================] - 0s 4ms/step - loss: 0.0312 - mean_squared_error: 0.0312 - val_loss: 0.0520 - val_mean_squared_error: 0.0520\n",
      "Epoch 35/500\n",
      "24/24 [==============================] - 0s 5ms/step - loss: 0.0330 - mean_squared_error: 0.0330 - val_loss: 0.0444 - val_mean_squared_error: 0.0444\n",
      "Epoch 36/500\n",
      "24/24 [==============================] - 0s 3ms/step - loss: 0.0290 - mean_squared_error: 0.0290 - val_loss: 0.0456 - val_mean_squared_error: 0.0456\n",
      "Epoch 37/500\n",
      "24/24 [==============================] - 0s 3ms/step - loss: 0.0282 - mean_squared_error: 0.0282 - val_loss: 0.0413 - val_mean_squared_error: 0.0413\n",
      "Epoch 38/500\n",
      "24/24 [==============================] - 0s 4ms/step - loss: 0.0289 - mean_squared_error: 0.0289 - val_loss: 0.0463 - val_mean_squared_error: 0.0463\n",
      "Epoch 39/500\n",
      "24/24 [==============================] - 0s 4ms/step - loss: 0.0257 - mean_squared_error: 0.0257 - val_loss: 0.0450 - val_mean_squared_error: 0.0450\n",
      "Epoch 40/500\n",
      "24/24 [==============================] - 0s 4ms/step - loss: 0.0257 - mean_squared_error: 0.0257 - val_loss: 0.0408 - val_mean_squared_error: 0.0408\n",
      "Epoch 41/500\n",
      "24/24 [==============================] - 0s 4ms/step - loss: 0.0259 - mean_squared_error: 0.0259 - val_loss: 0.0452 - val_mean_squared_error: 0.0452\n",
      "Epoch 42/500\n",
      "24/24 [==============================] - 0s 3ms/step - loss: 0.0260 - mean_squared_error: 0.0260 - val_loss: 0.0410 - val_mean_squared_error: 0.0410\n",
      "Epoch 43/500\n",
      "24/24 [==============================] - 0s 3ms/step - loss: 0.0245 - mean_squared_error: 0.0245 - val_loss: 0.0396 - val_mean_squared_error: 0.0396\n",
      "Epoch 44/500\n",
      "24/24 [==============================] - 0s 3ms/step - loss: 0.0237 - mean_squared_error: 0.0237 - val_loss: 0.0434 - val_mean_squared_error: 0.0434\n",
      "Epoch 45/500\n",
      "24/24 [==============================] - 0s 3ms/step - loss: 0.0250 - mean_squared_error: 0.0250 - val_loss: 0.0400 - val_mean_squared_error: 0.0400\n",
      "Epoch 46/500\n",
      "24/24 [==============================] - 0s 3ms/step - loss: 0.0233 - mean_squared_error: 0.0233 - val_loss: 0.0412 - val_mean_squared_error: 0.0412\n",
      "Epoch 47/500\n",
      "24/24 [==============================] - 0s 4ms/step - loss: 0.0231 - mean_squared_error: 0.0231 - val_loss: 0.0408 - val_mean_squared_error: 0.0408\n",
      "Epoch 48/500\n",
      "24/24 [==============================] - 0s 4ms/step - loss: 0.0233 - mean_squared_error: 0.0233 - val_loss: 0.0423 - val_mean_squared_error: 0.0423\n",
      "Epoch 49/500\n",
      "24/24 [==============================] - 0s 3ms/step - loss: 0.0256 - mean_squared_error: 0.0256 - val_loss: 0.0400 - val_mean_squared_error: 0.0400\n",
      "Epoch 50/500\n",
      "24/24 [==============================] - 0s 3ms/step - loss: 0.0228 - mean_squared_error: 0.0228 - val_loss: 0.0403 - val_mean_squared_error: 0.0403\n",
      "Epoch 51/500\n",
      "24/24 [==============================] - 0s 4ms/step - loss: 0.0220 - mean_squared_error: 0.0220 - val_loss: 0.0433 - val_mean_squared_error: 0.0433\n",
      "Epoch 52/500\n",
      "24/24 [==============================] - 0s 4ms/step - loss: 0.0235 - mean_squared_error: 0.0235 - val_loss: 0.0383 - val_mean_squared_error: 0.0383\n",
      "Epoch 53/500\n",
      "24/24 [==============================] - 0s 4ms/step - loss: 0.0289 - mean_squared_error: 0.0289 - val_loss: 0.0472 - val_mean_squared_error: 0.0472\n",
      "Epoch 54/500\n",
      "24/24 [==============================] - 0s 3ms/step - loss: 0.0273 - mean_squared_error: 0.0273 - val_loss: 0.0374 - val_mean_squared_error: 0.0374\n",
      "Epoch 55/500\n",
      "24/24 [==============================] - 0s 4ms/step - loss: 0.0224 - mean_squared_error: 0.0224 - val_loss: 0.0379 - val_mean_squared_error: 0.0379\n",
      "Epoch 56/500\n",
      "24/24 [==============================] - 0s 4ms/step - loss: 0.0194 - mean_squared_error: 0.0194 - val_loss: 0.0351 - val_mean_squared_error: 0.0351\n",
      "Epoch 57/500\n",
      "24/24 [==============================] - 0s 4ms/step - loss: 0.0192 - mean_squared_error: 0.0192 - val_loss: 0.0370 - val_mean_squared_error: 0.0370\n",
      "Epoch 58/500\n",
      "24/24 [==============================] - 0s 4ms/step - loss: 0.0204 - mean_squared_error: 0.0204 - val_loss: 0.0413 - val_mean_squared_error: 0.0413\n",
      "Epoch 59/500\n",
      "24/24 [==============================] - 0s 4ms/step - loss: 0.0200 - mean_squared_error: 0.0200 - val_loss: 0.0345 - val_mean_squared_error: 0.0345\n",
      "Epoch 60/500\n",
      "24/24 [==============================] - 0s 4ms/step - loss: 0.0199 - mean_squared_error: 0.0199 - val_loss: 0.0357 - val_mean_squared_error: 0.0357\n",
      "Epoch 61/500\n",
      "24/24 [==============================] - 0s 3ms/step - loss: 0.0206 - mean_squared_error: 0.0206 - val_loss: 0.0429 - val_mean_squared_error: 0.0429\n",
      "Epoch 62/500\n",
      "24/24 [==============================] - 0s 3ms/step - loss: 0.0236 - mean_squared_error: 0.0236 - val_loss: 0.0345 - val_mean_squared_error: 0.0345\n",
      "Epoch 63/500\n",
      "24/24 [==============================] - 0s 3ms/step - loss: 0.0188 - mean_squared_error: 0.0188 - val_loss: 0.0342 - val_mean_squared_error: 0.0342\n",
      "Epoch 64/500\n",
      "24/24 [==============================] - 0s 3ms/step - loss: 0.0187 - mean_squared_error: 0.0187 - val_loss: 0.0338 - val_mean_squared_error: 0.0338\n",
      "Epoch 65/500\n",
      "24/24 [==============================] - 0s 3ms/step - loss: 0.0196 - mean_squared_error: 0.0196 - val_loss: 0.0405 - val_mean_squared_error: 0.0405\n",
      "Epoch 66/500\n",
      "24/24 [==============================] - 0s 3ms/step - loss: 0.0198 - mean_squared_error: 0.0198 - val_loss: 0.0370 - val_mean_squared_error: 0.0370\n",
      "Epoch 67/500\n",
      "24/24 [==============================] - 0s 3ms/step - loss: 0.0214 - mean_squared_error: 0.0214 - val_loss: 0.0350 - val_mean_squared_error: 0.0350\n",
      "Epoch 68/500\n",
      "24/24 [==============================] - 0s 3ms/step - loss: 0.0182 - mean_squared_error: 0.0182 - val_loss: 0.0345 - val_mean_squared_error: 0.0345\n",
      "Epoch 69/500\n",
      "24/24 [==============================] - 0s 3ms/step - loss: 0.0203 - mean_squared_error: 0.0203 - val_loss: 0.0489 - val_mean_squared_error: 0.0489\n",
      "Epoch 70/500\n",
      "24/24 [==============================] - 0s 3ms/step - loss: 0.0210 - mean_squared_error: 0.0210 - val_loss: 0.0355 - val_mean_squared_error: 0.0355\n",
      "Epoch 71/500\n",
      "24/24 [==============================] - 0s 4ms/step - loss: 0.0189 - mean_squared_error: 0.0189 - val_loss: 0.0410 - val_mean_squared_error: 0.0410\n",
      "Epoch 72/500\n",
      "24/24 [==============================] - 0s 3ms/step - loss: 0.0188 - mean_squared_error: 0.0188 - val_loss: 0.0372 - val_mean_squared_error: 0.0372\n",
      "Epoch 73/500\n",
      "24/24 [==============================] - 0s 3ms/step - loss: 0.0182 - mean_squared_error: 0.0182 - val_loss: 0.0395 - val_mean_squared_error: 0.0395\n",
      "Epoch 74/500\n",
      "24/24 [==============================] - 0s 3ms/step - loss: 0.0182 - mean_squared_error: 0.0182 - val_loss: 0.0351 - val_mean_squared_error: 0.0351\n",
      "Epoch 75/500\n",
      "24/24 [==============================] - 0s 3ms/step - loss: 0.0194 - mean_squared_error: 0.0194 - val_loss: 0.0323 - val_mean_squared_error: 0.0323\n",
      "Epoch 76/500\n",
      "24/24 [==============================] - 0s 3ms/step - loss: 0.0153 - mean_squared_error: 0.0153 - val_loss: 0.0336 - val_mean_squared_error: 0.0336\n",
      "Epoch 77/500\n",
      "24/24 [==============================] - 0s 3ms/step - loss: 0.0159 - mean_squared_error: 0.0159 - val_loss: 0.0323 - val_mean_squared_error: 0.0323\n",
      "Epoch 78/500\n",
      "24/24 [==============================] - 0s 3ms/step - loss: 0.0156 - mean_squared_error: 0.0156 - val_loss: 0.0339 - val_mean_squared_error: 0.0339\n",
      "Epoch 79/500\n",
      "24/24 [==============================] - 0s 3ms/step - loss: 0.0151 - mean_squared_error: 0.0151 - val_loss: 0.0321 - val_mean_squared_error: 0.0321\n",
      "Epoch 80/500\n",
      "24/24 [==============================] - 0s 3ms/step - loss: 0.0162 - mean_squared_error: 0.0162 - val_loss: 0.0321 - val_mean_squared_error: 0.0321\n",
      "Epoch 81/500\n",
      "24/24 [==============================] - 0s 3ms/step - loss: 0.0151 - mean_squared_error: 0.0151 - val_loss: 0.0332 - val_mean_squared_error: 0.0332\n",
      "Epoch 82/500\n",
      "24/24 [==============================] - 0s 3ms/step - loss: 0.0143 - mean_squared_error: 0.0143 - val_loss: 0.0327 - val_mean_squared_error: 0.0327\n",
      "Epoch 83/500\n",
      "24/24 [==============================] - 0s 4ms/step - loss: 0.0145 - mean_squared_error: 0.0145 - val_loss: 0.0317 - val_mean_squared_error: 0.0317\n",
      "Epoch 84/500\n",
      "24/24 [==============================] - 0s 4ms/step - loss: 0.0158 - mean_squared_error: 0.0158 - val_loss: 0.0334 - val_mean_squared_error: 0.0334\n",
      "Epoch 85/500\n",
      "24/24 [==============================] - 0s 4ms/step - loss: 0.0153 - mean_squared_error: 0.0153 - val_loss: 0.0354 - val_mean_squared_error: 0.0354\n",
      "Epoch 86/500\n",
      "24/24 [==============================] - 0s 3ms/step - loss: 0.0152 - mean_squared_error: 0.0152 - val_loss: 0.0350 - val_mean_squared_error: 0.0350\n",
      "Epoch 87/500\n",
      "24/24 [==============================] - 0s 3ms/step - loss: 0.0142 - mean_squared_error: 0.0142 - val_loss: 0.0355 - val_mean_squared_error: 0.0355\n",
      "Epoch 88/500\n",
      "24/24 [==============================] - 0s 4ms/step - loss: 0.0153 - mean_squared_error: 0.0153 - val_loss: 0.0314 - val_mean_squared_error: 0.0314\n",
      "Epoch 89/500\n",
      "24/24 [==============================] - 0s 4ms/step - loss: 0.0132 - mean_squared_error: 0.0132 - val_loss: 0.0320 - val_mean_squared_error: 0.0320\n",
      "Epoch 90/500\n",
      "24/24 [==============================] - 0s 4ms/step - loss: 0.0136 - mean_squared_error: 0.0136 - val_loss: 0.0358 - val_mean_squared_error: 0.0358\n",
      "Epoch 91/500\n",
      "24/24 [==============================] - 0s 4ms/step - loss: 0.0146 - mean_squared_error: 0.0146 - val_loss: 0.0327 - val_mean_squared_error: 0.0327\n",
      "Epoch 92/500\n",
      "24/24 [==============================] - 0s 4ms/step - loss: 0.0133 - mean_squared_error: 0.0133 - val_loss: 0.0382 - val_mean_squared_error: 0.0382\n",
      "Epoch 93/500\n",
      "24/24 [==============================] - 0s 4ms/step - loss: 0.0144 - mean_squared_error: 0.0144 - val_loss: 0.0316 - val_mean_squared_error: 0.0316\n",
      "Epoch 94/500\n",
      "24/24 [==============================] - 0s 4ms/step - loss: 0.0130 - mean_squared_error: 0.0130 - val_loss: 0.0304 - val_mean_squared_error: 0.0304\n",
      "Epoch 95/500\n",
      "24/24 [==============================] - 0s 4ms/step - loss: 0.0133 - mean_squared_error: 0.0133 - val_loss: 0.0360 - val_mean_squared_error: 0.0360\n",
      "Epoch 96/500\n",
      "24/24 [==============================] - 0s 3ms/step - loss: 0.0136 - mean_squared_error: 0.0136 - val_loss: 0.0319 - val_mean_squared_error: 0.0319\n",
      "Epoch 97/500\n",
      "24/24 [==============================] - 0s 4ms/step - loss: 0.0130 - mean_squared_error: 0.0130 - val_loss: 0.0322 - val_mean_squared_error: 0.0322\n",
      "Epoch 98/500\n",
      "24/24 [==============================] - 0s 3ms/step - loss: 0.0131 - mean_squared_error: 0.0131 - val_loss: 0.0323 - val_mean_squared_error: 0.0323\n",
      "Epoch 99/500\n",
      "24/24 [==============================] - 0s 4ms/step - loss: 0.0131 - mean_squared_error: 0.0131 - val_loss: 0.0307 - val_mean_squared_error: 0.0307\n",
      "Epoch 100/500\n",
      "24/24 [==============================] - 0s 3ms/step - loss: 0.0119 - mean_squared_error: 0.0119 - val_loss: 0.0310 - val_mean_squared_error: 0.0310\n",
      "Epoch 101/500\n",
      "24/24 [==============================] - 0s 3ms/step - loss: 0.0132 - mean_squared_error: 0.0132 - val_loss: 0.0345 - val_mean_squared_error: 0.0345\n",
      "Epoch 102/500\n",
      "24/24 [==============================] - 0s 4ms/step - loss: 0.0142 - mean_squared_error: 0.0142 - val_loss: 0.0312 - val_mean_squared_error: 0.0312\n",
      "Epoch 103/500\n",
      "24/24 [==============================] - 0s 4ms/step - loss: 0.0124 - mean_squared_error: 0.0124 - val_loss: 0.0302 - val_mean_squared_error: 0.0302\n",
      "Epoch 104/500\n",
      "24/24 [==============================] - 0s 4ms/step - loss: 0.0114 - mean_squared_error: 0.0114 - val_loss: 0.0306 - val_mean_squared_error: 0.0306\n",
      "Epoch 105/500\n",
      "24/24 [==============================] - 0s 3ms/step - loss: 0.0123 - mean_squared_error: 0.0123 - val_loss: 0.0304 - val_mean_squared_error: 0.0304\n",
      "Epoch 106/500\n",
      "24/24 [==============================] - 0s 4ms/step - loss: 0.0120 - mean_squared_error: 0.0120 - val_loss: 0.0329 - val_mean_squared_error: 0.0329\n",
      "Epoch 107/500\n",
      "24/24 [==============================] - 0s 4ms/step - loss: 0.0132 - mean_squared_error: 0.0132 - val_loss: 0.0297 - val_mean_squared_error: 0.0297\n",
      "Epoch 108/500\n",
      "24/24 [==============================] - 0s 3ms/step - loss: 0.0119 - mean_squared_error: 0.0119 - val_loss: 0.0296 - val_mean_squared_error: 0.0296\n",
      "Epoch 109/500\n",
      "24/24 [==============================] - 0s 3ms/step - loss: 0.0116 - mean_squared_error: 0.0116 - val_loss: 0.0311 - val_mean_squared_error: 0.0311\n",
      "Epoch 110/500\n",
      "24/24 [==============================] - 0s 4ms/step - loss: 0.0121 - mean_squared_error: 0.0121 - val_loss: 0.0366 - val_mean_squared_error: 0.0366\n",
      "Epoch 111/500\n",
      "24/24 [==============================] - 0s 3ms/step - loss: 0.0143 - mean_squared_error: 0.0143 - val_loss: 0.0315 - val_mean_squared_error: 0.0315\n",
      "Epoch 112/500\n",
      "24/24 [==============================] - 0s 3ms/step - loss: 0.0119 - mean_squared_error: 0.0119 - val_loss: 0.0334 - val_mean_squared_error: 0.0334\n",
      "Epoch 113/500\n",
      "24/24 [==============================] - 0s 3ms/step - loss: 0.0115 - mean_squared_error: 0.0115 - val_loss: 0.0310 - val_mean_squared_error: 0.0310\n",
      "Epoch 114/500\n",
      "24/24 [==============================] - 0s 3ms/step - loss: 0.0115 - mean_squared_error: 0.0115 - val_loss: 0.0328 - val_mean_squared_error: 0.0328\n",
      "Epoch 115/500\n",
      "24/24 [==============================] - 0s 3ms/step - loss: 0.0129 - mean_squared_error: 0.0129 - val_loss: 0.0330 - val_mean_squared_error: 0.0330\n",
      "Epoch 116/500\n",
      "24/24 [==============================] - 0s 3ms/step - loss: 0.0134 - mean_squared_error: 0.0134 - val_loss: 0.0312 - val_mean_squared_error: 0.0312\n",
      "Epoch 117/500\n",
      "24/24 [==============================] - 0s 3ms/step - loss: 0.0130 - mean_squared_error: 0.0130 - val_loss: 0.0343 - val_mean_squared_error: 0.0343\n",
      "Epoch 118/500\n",
      "24/24 [==============================] - 0s 4ms/step - loss: 0.0132 - mean_squared_error: 0.0132 - val_loss: 0.0313 - val_mean_squared_error: 0.0313\n",
      "Epoch 119/500\n",
      "24/24 [==============================] - 0s 4ms/step - loss: 0.0118 - mean_squared_error: 0.0118 - val_loss: 0.0315 - val_mean_squared_error: 0.0315\n",
      "Epoch 120/500\n",
      "24/24 [==============================] - 0s 6ms/step - loss: 0.0115 - mean_squared_error: 0.0115 - val_loss: 0.0293 - val_mean_squared_error: 0.0293\n",
      "Epoch 121/500\n",
      "24/24 [==============================] - 0s 3ms/step - loss: 0.0107 - mean_squared_error: 0.0107 - val_loss: 0.0323 - val_mean_squared_error: 0.0323\n",
      "Epoch 122/500\n",
      "24/24 [==============================] - 0s 4ms/step - loss: 0.0139 - mean_squared_error: 0.0139 - val_loss: 0.0307 - val_mean_squared_error: 0.0307\n",
      "Epoch 123/500\n",
      "24/24 [==============================] - 0s 3ms/step - loss: 0.0112 - mean_squared_error: 0.0112 - val_loss: 0.0306 - val_mean_squared_error: 0.0306\n",
      "Epoch 124/500\n",
      "24/24 [==============================] - 0s 3ms/step - loss: 0.0113 - mean_squared_error: 0.0113 - val_loss: 0.0308 - val_mean_squared_error: 0.0308\n",
      "Epoch 125/500\n",
      "24/24 [==============================] - 0s 4ms/step - loss: 0.0122 - mean_squared_error: 0.0122 - val_loss: 0.0354 - val_mean_squared_error: 0.0354\n",
      "Epoch 126/500\n",
      "24/24 [==============================] - 0s 5ms/step - loss: 0.0112 - mean_squared_error: 0.0112 - val_loss: 0.0308 - val_mean_squared_error: 0.0308\n",
      "Epoch 127/500\n",
      "24/24 [==============================] - 0s 3ms/step - loss: 0.0100 - mean_squared_error: 0.0100 - val_loss: 0.0310 - val_mean_squared_error: 0.0310\n",
      "Epoch 128/500\n",
      "24/24 [==============================] - 0s 3ms/step - loss: 0.0111 - mean_squared_error: 0.0111 - val_loss: 0.0288 - val_mean_squared_error: 0.0288\n",
      "Epoch 129/500\n",
      "24/24 [==============================] - 0s 4ms/step - loss: 0.0115 - mean_squared_error: 0.0115 - val_loss: 0.0280 - val_mean_squared_error: 0.0280\n",
      "Epoch 130/500\n",
      "24/24 [==============================] - 0s 3ms/step - loss: 0.0094 - mean_squared_error: 0.0094 - val_loss: 0.0291 - val_mean_squared_error: 0.0291\n",
      "Epoch 131/500\n",
      "24/24 [==============================] - 0s 3ms/step - loss: 0.0101 - mean_squared_error: 0.0101 - val_loss: 0.0331 - val_mean_squared_error: 0.0331\n",
      "Epoch 132/500\n",
      "24/24 [==============================] - 0s 3ms/step - loss: 0.0105 - mean_squared_error: 0.0105 - val_loss: 0.0312 - val_mean_squared_error: 0.0312\n",
      "Epoch 133/500\n",
      "24/24 [==============================] - 0s 3ms/step - loss: 0.0102 - mean_squared_error: 0.0102 - val_loss: 0.0305 - val_mean_squared_error: 0.0305\n",
      "Epoch 134/500\n",
      "24/24 [==============================] - 0s 3ms/step - loss: 0.0095 - mean_squared_error: 0.0095 - val_loss: 0.0275 - val_mean_squared_error: 0.0275\n",
      "Epoch 135/500\n",
      "24/24 [==============================] - 0s 3ms/step - loss: 0.0090 - mean_squared_error: 0.0090 - val_loss: 0.0321 - val_mean_squared_error: 0.0321\n",
      "Epoch 136/500\n",
      "24/24 [==============================] - 0s 3ms/step - loss: 0.0094 - mean_squared_error: 0.0094 - val_loss: 0.0291 - val_mean_squared_error: 0.0291\n",
      "Epoch 137/500\n",
      "24/24 [==============================] - 0s 3ms/step - loss: 0.0093 - mean_squared_error: 0.0093 - val_loss: 0.0294 - val_mean_squared_error: 0.0294\n",
      "Epoch 138/500\n",
      "24/24 [==============================] - 0s 4ms/step - loss: 0.0095 - mean_squared_error: 0.0095 - val_loss: 0.0327 - val_mean_squared_error: 0.0327\n",
      "Epoch 139/500\n",
      "24/24 [==============================] - 0s 3ms/step - loss: 0.0094 - mean_squared_error: 0.0094 - val_loss: 0.0282 - val_mean_squared_error: 0.0282\n",
      "Epoch 140/500\n",
      "24/24 [==============================] - 0s 3ms/step - loss: 0.0094 - mean_squared_error: 0.0094 - val_loss: 0.0296 - val_mean_squared_error: 0.0296\n",
      "Epoch 141/500\n",
      "24/24 [==============================] - 0s 3ms/step - loss: 0.0123 - mean_squared_error: 0.0123 - val_loss: 0.0303 - val_mean_squared_error: 0.0303\n",
      "Epoch 142/500\n",
      "24/24 [==============================] - 0s 3ms/step - loss: 0.0094 - mean_squared_error: 0.0094 - val_loss: 0.0312 - val_mean_squared_error: 0.0312\n",
      "Epoch 143/500\n",
      "24/24 [==============================] - 0s 3ms/step - loss: 0.0093 - mean_squared_error: 0.0093 - val_loss: 0.0381 - val_mean_squared_error: 0.0381\n",
      "Epoch 144/500\n",
      "24/24 [==============================] - 0s 3ms/step - loss: 0.0125 - mean_squared_error: 0.0125 - val_loss: 0.0286 - val_mean_squared_error: 0.0286\n",
      "Epoch 145/500\n",
      "24/24 [==============================] - 0s 3ms/step - loss: 0.0093 - mean_squared_error: 0.0093 - val_loss: 0.0288 - val_mean_squared_error: 0.0288\n",
      "Epoch 146/500\n",
      "24/24 [==============================] - 0s 3ms/step - loss: 0.0085 - mean_squared_error: 0.0085 - val_loss: 0.0279 - val_mean_squared_error: 0.0279\n",
      "Epoch 147/500\n",
      "24/24 [==============================] - 0s 3ms/step - loss: 0.0092 - mean_squared_error: 0.0092 - val_loss: 0.0291 - val_mean_squared_error: 0.0291\n",
      "Epoch 148/500\n",
      "24/24 [==============================] - 0s 3ms/step - loss: 0.0089 - mean_squared_error: 0.0089 - val_loss: 0.0307 - val_mean_squared_error: 0.0307\n",
      "Epoch 149/500\n",
      "24/24 [==============================] - 0s 3ms/step - loss: 0.0087 - mean_squared_error: 0.0087 - val_loss: 0.0302 - val_mean_squared_error: 0.0302\n",
      "Epoch 150/500\n",
      "24/24 [==============================] - 0s 3ms/step - loss: 0.0085 - mean_squared_error: 0.0085 - val_loss: 0.0292 - val_mean_squared_error: 0.0292\n",
      "Epoch 151/500\n",
      "24/24 [==============================] - 0s 3ms/step - loss: 0.0084 - mean_squared_error: 0.0084 - val_loss: 0.0294 - val_mean_squared_error: 0.0294\n",
      "Epoch 152/500\n",
      "24/24 [==============================] - 0s 3ms/step - loss: 0.0085 - mean_squared_error: 0.0085 - val_loss: 0.0297 - val_mean_squared_error: 0.0297\n",
      "Epoch 153/500\n",
      "24/24 [==============================] - 0s 3ms/step - loss: 0.0089 - mean_squared_error: 0.0089 - val_loss: 0.0300 - val_mean_squared_error: 0.0300\n",
      "Epoch 154/500\n",
      "24/24 [==============================] - 0s 3ms/step - loss: 0.0086 - mean_squared_error: 0.0086 - val_loss: 0.0285 - val_mean_squared_error: 0.0285\n",
      "Epoch 155/500\n",
      "24/24 [==============================] - 0s 3ms/step - loss: 0.0085 - mean_squared_error: 0.0085 - val_loss: 0.0332 - val_mean_squared_error: 0.0332\n",
      "Epoch 156/500\n",
      "24/24 [==============================] - 0s 3ms/step - loss: 0.0093 - mean_squared_error: 0.0093 - val_loss: 0.0271 - val_mean_squared_error: 0.0271\n",
      "Epoch 157/500\n",
      "24/24 [==============================] - 0s 3ms/step - loss: 0.0079 - mean_squared_error: 0.0079 - val_loss: 0.0289 - val_mean_squared_error: 0.0289\n",
      "Epoch 158/500\n",
      "24/24 [==============================] - 0s 3ms/step - loss: 0.0089 - mean_squared_error: 0.0089 - val_loss: 0.0288 - val_mean_squared_error: 0.0288\n",
      "Epoch 159/500\n",
      "24/24 [==============================] - 0s 3ms/step - loss: 0.0077 - mean_squared_error: 0.0077 - val_loss: 0.0273 - val_mean_squared_error: 0.0273\n",
      "Epoch 160/500\n",
      "24/24 [==============================] - 0s 3ms/step - loss: 0.0077 - mean_squared_error: 0.0077 - val_loss: 0.0277 - val_mean_squared_error: 0.0277\n",
      "Epoch 161/500\n",
      "24/24 [==============================] - 0s 3ms/step - loss: 0.0084 - mean_squared_error: 0.0084 - val_loss: 0.0310 - val_mean_squared_error: 0.0310\n",
      "Epoch 162/500\n",
      "24/24 [==============================] - 0s 3ms/step - loss: 0.0080 - mean_squared_error: 0.0080 - val_loss: 0.0295 - val_mean_squared_error: 0.0295\n",
      "Epoch 163/500\n",
      "24/24 [==============================] - 0s 3ms/step - loss: 0.0073 - mean_squared_error: 0.0073 - val_loss: 0.0277 - val_mean_squared_error: 0.0277\n",
      "Epoch 164/500\n",
      "24/24 [==============================] - 0s 3ms/step - loss: 0.0079 - mean_squared_error: 0.0079 - val_loss: 0.0310 - val_mean_squared_error: 0.0310\n",
      "Epoch 165/500\n",
      "24/24 [==============================] - 0s 3ms/step - loss: 0.0139 - mean_squared_error: 0.0139 - val_loss: 0.0359 - val_mean_squared_error: 0.0359\n",
      "Epoch 166/500\n",
      "24/24 [==============================] - 0s 3ms/step - loss: 0.0119 - mean_squared_error: 0.0119 - val_loss: 0.0326 - val_mean_squared_error: 0.0326\n",
      "Epoch 167/500\n",
      "24/24 [==============================] - 0s 4ms/step - loss: 0.0094 - mean_squared_error: 0.0094 - val_loss: 0.0297 - val_mean_squared_error: 0.0297\n",
      "Epoch 168/500\n",
      "24/24 [==============================] - 0s 3ms/step - loss: 0.0078 - mean_squared_error: 0.0078 - val_loss: 0.0277 - val_mean_squared_error: 0.0277\n",
      "Epoch 169/500\n",
      "24/24 [==============================] - 0s 3ms/step - loss: 0.0076 - mean_squared_error: 0.0076 - val_loss: 0.0271 - val_mean_squared_error: 0.0271\n",
      "Epoch 170/500\n",
      "24/24 [==============================] - 0s 4ms/step - loss: 0.0079 - mean_squared_error: 0.0079 - val_loss: 0.0313 - val_mean_squared_error: 0.0313\n",
      "Epoch 171/500\n",
      "24/24 [==============================] - 0s 3ms/step - loss: 0.0082 - mean_squared_error: 0.0082 - val_loss: 0.0279 - val_mean_squared_error: 0.0279\n",
      "Epoch 172/500\n",
      "24/24 [==============================] - 0s 4ms/step - loss: 0.0082 - mean_squared_error: 0.0082 - val_loss: 0.0325 - val_mean_squared_error: 0.0325\n",
      "Epoch 173/500\n",
      "24/24 [==============================] - 0s 4ms/step - loss: 0.0082 - mean_squared_error: 0.0082 - val_loss: 0.0272 - val_mean_squared_error: 0.0272\n",
      "Epoch 174/500\n",
      "24/24 [==============================] - 0s 3ms/step - loss: 0.0086 - mean_squared_error: 0.0086 - val_loss: 0.0273 - val_mean_squared_error: 0.0273\n",
      "Epoch 175/500\n",
      "24/24 [==============================] - 0s 3ms/step - loss: 0.0077 - mean_squared_error: 0.0077 - val_loss: 0.0276 - val_mean_squared_error: 0.0276\n",
      "Epoch 176/500\n",
      "24/24 [==============================] - 0s 3ms/step - loss: 0.0076 - mean_squared_error: 0.0076 - val_loss: 0.0285 - val_mean_squared_error: 0.0285\n",
      "Epoch 177/500\n",
      "24/24 [==============================] - 0s 3ms/step - loss: 0.0087 - mean_squared_error: 0.0087 - val_loss: 0.0289 - val_mean_squared_error: 0.0289\n",
      "Epoch 178/500\n",
      "24/24 [==============================] - 0s 3ms/step - loss: 0.0084 - mean_squared_error: 0.0084 - val_loss: 0.0281 - val_mean_squared_error: 0.0281\n",
      "Epoch 179/500\n",
      "24/24 [==============================] - 0s 3ms/step - loss: 0.0069 - mean_squared_error: 0.0069 - val_loss: 0.0278 - val_mean_squared_error: 0.0278\n",
      "Epoch 180/500\n",
      "24/24 [==============================] - 0s 3ms/step - loss: 0.0068 - mean_squared_error: 0.0068 - val_loss: 0.0290 - val_mean_squared_error: 0.0290\n",
      "Epoch 181/500\n",
      "24/24 [==============================] - 0s 3ms/step - loss: 0.0089 - mean_squared_error: 0.0089 - val_loss: 0.0323 - val_mean_squared_error: 0.0323\n",
      "Epoch 182/500\n",
      "24/24 [==============================] - 0s 3ms/step - loss: 0.0076 - mean_squared_error: 0.0076 - val_loss: 0.0306 - val_mean_squared_error: 0.0306\n",
      "Epoch 183/500\n",
      "24/24 [==============================] - 0s 3ms/step - loss: 0.0066 - mean_squared_error: 0.0066 - val_loss: 0.0267 - val_mean_squared_error: 0.0267\n",
      "Epoch 184/500\n",
      "24/24 [==============================] - 0s 3ms/step - loss: 0.0069 - mean_squared_error: 0.0069 - val_loss: 0.0285 - val_mean_squared_error: 0.0285\n",
      "Epoch 185/500\n",
      "24/24 [==============================] - 0s 3ms/step - loss: 0.0076 - mean_squared_error: 0.0076 - val_loss: 0.0263 - val_mean_squared_error: 0.0263\n",
      "Epoch 186/500\n",
      "24/24 [==============================] - 0s 3ms/step - loss: 0.0082 - mean_squared_error: 0.0082 - val_loss: 0.0278 - val_mean_squared_error: 0.0278\n",
      "Epoch 187/500\n",
      "24/24 [==============================] - 0s 3ms/step - loss: 0.0068 - mean_squared_error: 0.0068 - val_loss: 0.0296 - val_mean_squared_error: 0.0296\n",
      "Epoch 188/500\n",
      "24/24 [==============================] - 0s 3ms/step - loss: 0.0085 - mean_squared_error: 0.0085 - val_loss: 0.0280 - val_mean_squared_error: 0.0280\n",
      "Epoch 189/500\n",
      "24/24 [==============================] - 0s 3ms/step - loss: 0.0068 - mean_squared_error: 0.0068 - val_loss: 0.0262 - val_mean_squared_error: 0.0262\n",
      "Epoch 190/500\n",
      "24/24 [==============================] - 0s 3ms/step - loss: 0.0072 - mean_squared_error: 0.0072 - val_loss: 0.0284 - val_mean_squared_error: 0.0284\n",
      "Epoch 191/500\n",
      "24/24 [==============================] - 0s 3ms/step - loss: 0.0081 - mean_squared_error: 0.0081 - val_loss: 0.0278 - val_mean_squared_error: 0.0278\n",
      "Epoch 192/500\n",
      "24/24 [==============================] - 0s 3ms/step - loss: 0.0083 - mean_squared_error: 0.0083 - val_loss: 0.0277 - val_mean_squared_error: 0.0277\n",
      "Epoch 193/500\n",
      "24/24 [==============================] - 0s 3ms/step - loss: 0.0068 - mean_squared_error: 0.0068 - val_loss: 0.0290 - val_mean_squared_error: 0.0290\n",
      "Epoch 194/500\n",
      "24/24 [==============================] - 0s 3ms/step - loss: 0.0073 - mean_squared_error: 0.0073 - val_loss: 0.0269 - val_mean_squared_error: 0.0269\n",
      "Epoch 195/500\n",
      "24/24 [==============================] - 0s 3ms/step - loss: 0.0070 - mean_squared_error: 0.0070 - val_loss: 0.0278 - val_mean_squared_error: 0.0278\n",
      "Epoch 196/500\n",
      "24/24 [==============================] - 0s 3ms/step - loss: 0.0089 - mean_squared_error: 0.0089 - val_loss: 0.0280 - val_mean_squared_error: 0.0280\n",
      "Epoch 197/500\n",
      "24/24 [==============================] - 0s 3ms/step - loss: 0.0081 - mean_squared_error: 0.0081 - val_loss: 0.0286 - val_mean_squared_error: 0.0286\n",
      "Epoch 198/500\n",
      "24/24 [==============================] - 0s 3ms/step - loss: 0.0064 - mean_squared_error: 0.0064 - val_loss: 0.0276 - val_mean_squared_error: 0.0276\n",
      "Epoch 199/500\n",
      "24/24 [==============================] - 0s 3ms/step - loss: 0.0069 - mean_squared_error: 0.0069 - val_loss: 0.0302 - val_mean_squared_error: 0.0302\n",
      "Epoch 200/500\n",
      "24/24 [==============================] - 0s 4ms/step - loss: 0.0077 - mean_squared_error: 0.0077 - val_loss: 0.0278 - val_mean_squared_error: 0.0278\n",
      "Epoch 201/500\n",
      "24/24 [==============================] - 0s 3ms/step - loss: 0.0083 - mean_squared_error: 0.0083 - val_loss: 0.0311 - val_mean_squared_error: 0.0311\n",
      "Epoch 202/500\n",
      "24/24 [==============================] - 0s 3ms/step - loss: 0.0077 - mean_squared_error: 0.0077 - val_loss: 0.0294 - val_mean_squared_error: 0.0294\n",
      "Epoch 203/500\n",
      "24/24 [==============================] - 0s 3ms/step - loss: 0.0067 - mean_squared_error: 0.0067 - val_loss: 0.0265 - val_mean_squared_error: 0.0265\n",
      "Epoch 204/500\n",
      "24/24 [==============================] - 0s 4ms/step - loss: 0.0062 - mean_squared_error: 0.0062 - val_loss: 0.0288 - val_mean_squared_error: 0.0288\n",
      "Epoch 205/500\n",
      "24/24 [==============================] - 0s 3ms/step - loss: 0.0074 - mean_squared_error: 0.0074 - val_loss: 0.0296 - val_mean_squared_error: 0.0296\n",
      "Epoch 206/500\n",
      "24/24 [==============================] - 0s 3ms/step - loss: 0.0059 - mean_squared_error: 0.0059 - val_loss: 0.0266 - val_mean_squared_error: 0.0266\n",
      "Epoch 207/500\n",
      "24/24 [==============================] - 0s 4ms/step - loss: 0.0057 - mean_squared_error: 0.0057 - val_loss: 0.0293 - val_mean_squared_error: 0.0293\n",
      "Epoch 208/500\n",
      "24/24 [==============================] - 0s 3ms/step - loss: 0.0075 - mean_squared_error: 0.0075 - val_loss: 0.0293 - val_mean_squared_error: 0.0293\n",
      "Epoch 209/500\n",
      "24/24 [==============================] - 0s 3ms/step - loss: 0.0061 - mean_squared_error: 0.0061 - val_loss: 0.0286 - val_mean_squared_error: 0.0286\n",
      "Epoch 210/500\n",
      "24/24 [==============================] - 0s 3ms/step - loss: 0.0071 - mean_squared_error: 0.0071 - val_loss: 0.0278 - val_mean_squared_error: 0.0278\n",
      "Epoch 211/500\n",
      "24/24 [==============================] - 0s 3ms/step - loss: 0.0067 - mean_squared_error: 0.0067 - val_loss: 0.0327 - val_mean_squared_error: 0.0327\n",
      "Epoch 212/500\n",
      "24/24 [==============================] - 0s 3ms/step - loss: 0.0062 - mean_squared_error: 0.0062 - val_loss: 0.0265 - val_mean_squared_error: 0.0265\n",
      "Epoch 213/500\n",
      "24/24 [==============================] - 0s 3ms/step - loss: 0.0061 - mean_squared_error: 0.0061 - val_loss: 0.0276 - val_mean_squared_error: 0.0276\n",
      "Epoch 214/500\n",
      "24/24 [==============================] - 0s 3ms/step - loss: 0.0059 - mean_squared_error: 0.0059 - val_loss: 0.0272 - val_mean_squared_error: 0.0272\n",
      "Epoch 215/500\n",
      "24/24 [==============================] - 0s 3ms/step - loss: 0.0060 - mean_squared_error: 0.0060 - val_loss: 0.0272 - val_mean_squared_error: 0.0272\n",
      "Epoch 216/500\n",
      "24/24 [==============================] - 0s 3ms/step - loss: 0.0055 - mean_squared_error: 0.0055 - val_loss: 0.0272 - val_mean_squared_error: 0.0272\n",
      "Epoch 217/500\n",
      "24/24 [==============================] - 0s 3ms/step - loss: 0.0067 - mean_squared_error: 0.0067 - val_loss: 0.0294 - val_mean_squared_error: 0.0294\n",
      "Epoch 218/500\n",
      "24/24 [==============================] - 0s 3ms/step - loss: 0.0063 - mean_squared_error: 0.0063 - val_loss: 0.0280 - val_mean_squared_error: 0.0280\n",
      "Epoch 219/500\n",
      "24/24 [==============================] - 0s 3ms/step - loss: 0.0059 - mean_squared_error: 0.0059 - val_loss: 0.0291 - val_mean_squared_error: 0.0291\n",
      "Epoch 220/500\n",
      "24/24 [==============================] - 0s 3ms/step - loss: 0.0056 - mean_squared_error: 0.0056 - val_loss: 0.0253 - val_mean_squared_error: 0.0253\n",
      "Epoch 221/500\n",
      "24/24 [==============================] - 0s 3ms/step - loss: 0.0063 - mean_squared_error: 0.0063 - val_loss: 0.0278 - val_mean_squared_error: 0.0278\n",
      "Epoch 222/500\n",
      "24/24 [==============================] - 0s 3ms/step - loss: 0.0062 - mean_squared_error: 0.0062 - val_loss: 0.0287 - val_mean_squared_error: 0.0287\n",
      "Epoch 223/500\n",
      "24/24 [==============================] - 0s 3ms/step - loss: 0.0058 - mean_squared_error: 0.0058 - val_loss: 0.0274 - val_mean_squared_error: 0.0274\n",
      "Epoch 224/500\n",
      "24/24 [==============================] - 0s 3ms/step - loss: 0.0056 - mean_squared_error: 0.0056 - val_loss: 0.0297 - val_mean_squared_error: 0.0297\n",
      "Epoch 225/500\n",
      "24/24 [==============================] - 0s 3ms/step - loss: 0.0061 - mean_squared_error: 0.0061 - val_loss: 0.0284 - val_mean_squared_error: 0.0284\n",
      "Epoch 226/500\n",
      "24/24 [==============================] - 0s 3ms/step - loss: 0.0066 - mean_squared_error: 0.0066 - val_loss: 0.0318 - val_mean_squared_error: 0.0318\n",
      "Epoch 227/500\n",
      "24/24 [==============================] - 0s 3ms/step - loss: 0.0069 - mean_squared_error: 0.0069 - val_loss: 0.0282 - val_mean_squared_error: 0.0282\n",
      "Epoch 228/500\n",
      "24/24 [==============================] - 0s 3ms/step - loss: 0.0064 - mean_squared_error: 0.0064 - val_loss: 0.0260 - val_mean_squared_error: 0.0260\n",
      "Epoch 229/500\n",
      "24/24 [==============================] - 0s 3ms/step - loss: 0.0061 - mean_squared_error: 0.0061 - val_loss: 0.0275 - val_mean_squared_error: 0.0275\n",
      "Epoch 230/500\n",
      "24/24 [==============================] - 0s 3ms/step - loss: 0.0060 - mean_squared_error: 0.0060 - val_loss: 0.0289 - val_mean_squared_error: 0.0289\n",
      "Epoch 231/500\n",
      "24/24 [==============================] - 0s 3ms/step - loss: 0.0059 - mean_squared_error: 0.0059 - val_loss: 0.0286 - val_mean_squared_error: 0.0286\n",
      "Epoch 232/500\n",
      "24/24 [==============================] - 0s 3ms/step - loss: 0.0055 - mean_squared_error: 0.0055 - val_loss: 0.0268 - val_mean_squared_error: 0.0268\n",
      "Epoch 233/500\n",
      "24/24 [==============================] - 0s 3ms/step - loss: 0.0061 - mean_squared_error: 0.0061 - val_loss: 0.0272 - val_mean_squared_error: 0.0272\n",
      "Epoch 234/500\n",
      "24/24 [==============================] - 0s 3ms/step - loss: 0.0054 - mean_squared_error: 0.0054 - val_loss: 0.0284 - val_mean_squared_error: 0.0284\n",
      "Epoch 235/500\n",
      "24/24 [==============================] - 0s 3ms/step - loss: 0.0050 - mean_squared_error: 0.0050 - val_loss: 0.0273 - val_mean_squared_error: 0.0273\n",
      "Epoch 236/500\n",
      "24/24 [==============================] - 0s 3ms/step - loss: 0.0055 - mean_squared_error: 0.0055 - val_loss: 0.0280 - val_mean_squared_error: 0.0280\n",
      "Epoch 237/500\n",
      "24/24 [==============================] - 0s 3ms/step - loss: 0.0053 - mean_squared_error: 0.0053 - val_loss: 0.0296 - val_mean_squared_error: 0.0296\n",
      "Epoch 238/500\n",
      "24/24 [==============================] - 0s 3ms/step - loss: 0.0054 - mean_squared_error: 0.0054 - val_loss: 0.0297 - val_mean_squared_error: 0.0297\n",
      "Epoch 239/500\n",
      "24/24 [==============================] - 0s 3ms/step - loss: 0.0060 - mean_squared_error: 0.0060 - val_loss: 0.0298 - val_mean_squared_error: 0.0298\n",
      "Epoch 240/500\n",
      "24/24 [==============================] - 0s 3ms/step - loss: 0.0075 - mean_squared_error: 0.0075 - val_loss: 0.0271 - val_mean_squared_error: 0.0271\n",
      "Epoch 241/500\n",
      "24/24 [==============================] - 0s 3ms/step - loss: 0.0081 - mean_squared_error: 0.0081 - val_loss: 0.0279 - val_mean_squared_error: 0.0279\n",
      "Epoch 242/500\n",
      "24/24 [==============================] - 0s 3ms/step - loss: 0.0067 - mean_squared_error: 0.0067 - val_loss: 0.0279 - val_mean_squared_error: 0.0279\n",
      "Epoch 243/500\n",
      "24/24 [==============================] - 0s 3ms/step - loss: 0.0066 - mean_squared_error: 0.0066 - val_loss: 0.0281 - val_mean_squared_error: 0.0281\n",
      "Epoch 244/500\n",
      "24/24 [==============================] - 0s 3ms/step - loss: 0.0059 - mean_squared_error: 0.0059 - val_loss: 0.0312 - val_mean_squared_error: 0.0312\n",
      "Epoch 245/500\n",
      "24/24 [==============================] - 0s 3ms/step - loss: 0.0055 - mean_squared_error: 0.0055 - val_loss: 0.0276 - val_mean_squared_error: 0.0276\n",
      "Epoch 246/500\n",
      "24/24 [==============================] - 0s 3ms/step - loss: 0.0052 - mean_squared_error: 0.0052 - val_loss: 0.0294 - val_mean_squared_error: 0.0294\n",
      "Epoch 247/500\n",
      "24/24 [==============================] - 0s 3ms/step - loss: 0.0051 - mean_squared_error: 0.0051 - val_loss: 0.0276 - val_mean_squared_error: 0.0276\n",
      "Epoch 248/500\n",
      "24/24 [==============================] - 0s 3ms/step - loss: 0.0046 - mean_squared_error: 0.0046 - val_loss: 0.0268 - val_mean_squared_error: 0.0268\n",
      "Epoch 249/500\n",
      "24/24 [==============================] - 0s 3ms/step - loss: 0.0049 - mean_squared_error: 0.0049 - val_loss: 0.0271 - val_mean_squared_error: 0.0271\n",
      "Epoch 250/500\n",
      "24/24 [==============================] - 0s 3ms/step - loss: 0.0050 - mean_squared_error: 0.0050 - val_loss: 0.0272 - val_mean_squared_error: 0.0272\n",
      "Epoch 251/500\n",
      "24/24 [==============================] - 0s 3ms/step - loss: 0.0054 - mean_squared_error: 0.0054 - val_loss: 0.0267 - val_mean_squared_error: 0.0267\n",
      "Epoch 252/500\n",
      "24/24 [==============================] - 0s 3ms/step - loss: 0.0053 - mean_squared_error: 0.0053 - val_loss: 0.0259 - val_mean_squared_error: 0.0259\n",
      "Epoch 253/500\n",
      "24/24 [==============================] - 0s 3ms/step - loss: 0.0056 - mean_squared_error: 0.0056 - val_loss: 0.0257 - val_mean_squared_error: 0.0257\n",
      "Epoch 254/500\n",
      "24/24 [==============================] - 0s 3ms/step - loss: 0.0047 - mean_squared_error: 0.0047 - val_loss: 0.0272 - val_mean_squared_error: 0.0272\n",
      "Epoch 255/500\n",
      "24/24 [==============================] - 0s 3ms/step - loss: 0.0065 - mean_squared_error: 0.0065 - val_loss: 0.0294 - val_mean_squared_error: 0.0294\n",
      "Epoch 256/500\n",
      "24/24 [==============================] - 0s 3ms/step - loss: 0.0059 - mean_squared_error: 0.0059 - val_loss: 0.0298 - val_mean_squared_error: 0.0298\n",
      "Epoch 257/500\n",
      "24/24 [==============================] - 0s 3ms/step - loss: 0.0049 - mean_squared_error: 0.0049 - val_loss: 0.0268 - val_mean_squared_error: 0.0268\n",
      "Epoch 258/500\n",
      "24/24 [==============================] - 0s 3ms/step - loss: 0.0049 - mean_squared_error: 0.0049 - val_loss: 0.0281 - val_mean_squared_error: 0.0281\n",
      "Epoch 259/500\n",
      "24/24 [==============================] - 0s 3ms/step - loss: 0.0065 - mean_squared_error: 0.0065 - val_loss: 0.0278 - val_mean_squared_error: 0.0278\n",
      "Epoch 260/500\n",
      "24/24 [==============================] - 0s 3ms/step - loss: 0.0054 - mean_squared_error: 0.0054 - val_loss: 0.0267 - val_mean_squared_error: 0.0267\n",
      "Epoch 261/500\n",
      "24/24 [==============================] - 0s 3ms/step - loss: 0.0050 - mean_squared_error: 0.0050 - val_loss: 0.0290 - val_mean_squared_error: 0.0290\n",
      "Epoch 262/500\n",
      "24/24 [==============================] - 0s 3ms/step - loss: 0.0053 - mean_squared_error: 0.0053 - val_loss: 0.0315 - val_mean_squared_error: 0.0315\n",
      "Epoch 263/500\n",
      "24/24 [==============================] - 0s 3ms/step - loss: 0.0060 - mean_squared_error: 0.0060 - val_loss: 0.0281 - val_mean_squared_error: 0.0281\n",
      "Epoch 264/500\n",
      "24/24 [==============================] - 0s 3ms/step - loss: 0.0064 - mean_squared_error: 0.0064 - val_loss: 0.0255 - val_mean_squared_error: 0.0255\n",
      "Epoch 265/500\n",
      "24/24 [==============================] - 0s 3ms/step - loss: 0.0057 - mean_squared_error: 0.0057 - val_loss: 0.0266 - val_mean_squared_error: 0.0266\n",
      "Epoch 266/500\n",
      "24/24 [==============================] - 0s 3ms/step - loss: 0.0052 - mean_squared_error: 0.0052 - val_loss: 0.0256 - val_mean_squared_error: 0.0256\n",
      "Epoch 267/500\n",
      "24/24 [==============================] - 0s 3ms/step - loss: 0.0051 - mean_squared_error: 0.0051 - val_loss: 0.0292 - val_mean_squared_error: 0.0292\n",
      "Epoch 268/500\n",
      "24/24 [==============================] - 0s 3ms/step - loss: 0.0050 - mean_squared_error: 0.0050 - val_loss: 0.0281 - val_mean_squared_error: 0.0281\n"
     ]
    }
   ],
   "source": [
    "## Acas XU original is 8 hidden layers with 300 relu each\n",
    "#Katz, G., Barrett, C., Dill, D.L., Julian, K., Kochenderfer, M.J. (2017). Reluplex: An Efficient SMT Solver for Verifying Deep Neural Networks. In: Majumdar, R., Kunčak, V. (eds) Computer Aided Verification. CAV 2017. Lecture Notes in Computer Science(), vol 10426. Springer, Cham. https://doi.org/10.1007/978-3-319-63387-9_5\n",
    "\n",
    "hidden_layer_width=50\n",
    "num_hidden_layers=8\n",
    "\n",
    "## Input Layer\n",
    "layers = [\n",
    "    tf.keras.layers.Dense(\n",
    "        hidden_layer_width,\n",
    "        activation=tf.nn.relu,\n",
    "        input_shape=(5,),\n",
    "        kernel_initializer=tf.keras.initializers.GlorotUniform(),\n",
    "        bias_initializer=tf.keras.initializers.GlorotUniform()\n",
    "    )\n",
    "]\n",
    "\n",
    "## Hidden Layers\n",
    "for i in range(num_hidden_layers-1):\n",
    "    layers.append(\n",
    "        tf.keras.layers.Dense(hidden_layer_width,\n",
    "            activation=tf.nn.relu,\n",
    "            kernel_initializer=tf.keras.initializers.GlorotUniform(),\n",
    "            bias_initializer=tf.keras.initializers.GlorotUniform())\n",
    "    )\n",
    "\n",
    "## Output Layer\n",
    "layers.append(tf.keras.layers.Dense(5))\n",
    "\n",
    "student_model = tf.keras.Sequential(layers)\n",
    "\n",
    "student_model.summary()\n",
    "\n",
    "## Julian K uses an asymmetric loss function based on MSE. We use MSE here for now.\n",
    "\n",
    "student_model.compile(\n",
    "    loss=tf.keras.losses.MeanSquaredError(),\n",
    "    #loss=tf.keras.losses.KLDivergence(),\n",
    "    metrics=[tf.keras.metrics.MeanSquaredError()],\n",
    "    optimizer=tf.keras.optimizers.Adam(0.001)\n",
    ")\n",
    "\n",
    "history = student_model.fit(\n",
    "    x=synthetic_inputs_train,\n",
    "    y=synthetic_outputs_train,#synthetic_outputs, #- Using logits in the loss function requires a different loss metric, like KLDivergence. But I couldn't get it working immediately.\n",
    "    epochs=500,\n",
    "    batch_size=128,\n",
    "    verbose=0,\n",
    "    validation_data = (synthetic_inputs_val, synthetic_outputs_val),\n",
    "    callbacks=[\n",
    "        tf.keras.callbacks.EarlyStopping(monitor='loss', patience=20)\n",
    "    ],\n",
    "    )\n"
   ]
  },
  {
   "cell_type": "code",
   "execution_count": 23,
   "metadata": {},
   "outputs": [
    {
     "data": {
      "image/png": "[encoded data removed]",
      "text/plain": [
       "<Figure size 432x288 with 1 Axes>"
      ]
     },
     "metadata": {
      "needs_background": "light"
     },
     "output_type": "display_data"
    }
   ],
   "source": [
    "plt.plot(history.history[\"val_loss\"])\n",
    "plt.plot(history.history[\"loss\"])\n",
    "plt.yscale(\"log\")"
   ]
  },
  {
   "cell_type": "code",
   "execution_count": 7,
   "metadata": {},
   "outputs": [
    {
     "ename": "ValueError",
     "evalue": "in user code:\n\n    File \"/Users/jperrsau/opt/anaconda3/envs/distill-env/lib/python3.9/site-packages/keras/engine/training.py\", line 1845, in predict_function  *\n        return step_function(self, iterator)\n    File \"/Users/jperrsau/opt/anaconda3/envs/distill-env/lib/python3.9/site-packages/keras/engine/training.py\", line 1834, in step_function  **\n        outputs = model.distribute_strategy.run(run_step, args=(data,))\n    File \"/Users/jperrsau/opt/anaconda3/envs/distill-env/lib/python3.9/site-packages/keras/engine/training.py\", line 1823, in run_step  **\n        outputs = model.predict_step(data)\n    File \"/Users/jperrsau/opt/anaconda3/envs/distill-env/lib/python3.9/site-packages/keras/engine/training.py\", line 1791, in predict_step\n        return self(x, training=False)\n    File \"/Users/jperrsau/opt/anaconda3/envs/distill-env/lib/python3.9/site-packages/keras/utils/traceback_utils.py\", line 67, in error_handler\n        raise e.with_traceback(filtered_tb) from None\n    File \"/Users/jperrsau/opt/anaconda3/envs/distill-env/lib/python3.9/site-packages/keras/engine/input_spec.py\", line 264, in assert_input_compatibility\n        raise ValueError(f'Input {input_index} of layer \"{layer_name}\" is '\n\n    ValueError: Input 0 of layer \"sequential\" is incompatible with the layer: expected shape=(None, 5), found shape=(32, 1, 1, 5)\n",
     "output_type": "error",
     "traceback": [
      "\u001b[0;31m---------------------------------------------------------------------------\u001b[0m",
      "\u001b[0;31mValueError\u001b[0m                                Traceback (most recent call last)",
      "\u001b[1;32m/Users/jperrsau/cu-src/thesis/src/distill/10_17_2022_monitor_val_loss.ipynb Cell 8\u001b[0m in \u001b[0;36m<cell line: 1>\u001b[0;34m()\u001b[0m\n\u001b[0;32m----> <a href='vscode-notebook-cell:/Users/jperrsau/cu-src/thesis/src/distill/10_17_2022_monitor_val_loss.ipynb#X11sZmlsZQ%3D%3D?line=0'>1</a>\u001b[0m synthetic_outputs_pred \u001b[39m=\u001b[39m student_model\u001b[39m.\u001b[39;49mpredict(synthetic_inputs)\n\u001b[1;32m      <a href='vscode-notebook-cell:/Users/jperrsau/cu-src/thesis/src/distill/10_17_2022_monitor_val_loss.ipynb#X11sZmlsZQ%3D%3D?line=2'>3</a>\u001b[0m plt\u001b[39m.\u001b[39mscatter(synthetic_inputs[:,\u001b[39m0\u001b[39m], synthetic_inputs[:,\u001b[39m1\u001b[39m], c\u001b[39m=\u001b[39msynthetic_outputs_pred[:,\u001b[39m0\u001b[39m])\n\u001b[1;32m      <a href='vscode-notebook-cell:/Users/jperrsau/cu-src/thesis/src/distill/10_17_2022_monitor_val_loss.ipynb#X11sZmlsZQ%3D%3D?line=3'>4</a>\u001b[0m plt\u001b[39m.\u001b[39mtitle(\u001b[39m\"\u001b[39m\u001b[39mTeacher Model Output 0 projected on to Input 0 and Input 1\u001b[39m\u001b[39m\"\u001b[39m)\n",
      "File \u001b[0;32m~/opt/anaconda3/envs/distill-env/lib/python3.9/site-packages/keras/utils/traceback_utils.py:67\u001b[0m, in \u001b[0;36mfilter_traceback.<locals>.error_handler\u001b[0;34m(*args, **kwargs)\u001b[0m\n\u001b[1;32m     65\u001b[0m \u001b[39mexcept\u001b[39;00m \u001b[39mException\u001b[39;00m \u001b[39mas\u001b[39;00m e:  \u001b[39m# pylint: disable=broad-except\u001b[39;00m\n\u001b[1;32m     66\u001b[0m   filtered_tb \u001b[39m=\u001b[39m _process_traceback_frames(e\u001b[39m.\u001b[39m__traceback__)\n\u001b[0;32m---> 67\u001b[0m   \u001b[39mraise\u001b[39;00m e\u001b[39m.\u001b[39mwith_traceback(filtered_tb) \u001b[39mfrom\u001b[39;00m \u001b[39mNone\u001b[39m\n\u001b[1;32m     68\u001b[0m \u001b[39mfinally\u001b[39;00m:\n\u001b[1;32m     69\u001b[0m   \u001b[39mdel\u001b[39;00m filtered_tb\n",
      "File \u001b[0;32m/var/folders/3g/8436y4yj1r9367dvt15y6jqcdx0hcv/T/__autograph_generated_file96tns8v4.py:15\u001b[0m, in \u001b[0;36mouter_factory.<locals>.inner_factory.<locals>.tf__predict_function\u001b[0;34m(iterator)\u001b[0m\n\u001b[1;32m     13\u001b[0m \u001b[39mtry\u001b[39;00m:\n\u001b[1;32m     14\u001b[0m     do_return \u001b[39m=\u001b[39m \u001b[39mTrue\u001b[39;00m\n\u001b[0;32m---> 15\u001b[0m     retval_ \u001b[39m=\u001b[39m ag__\u001b[39m.\u001b[39mconverted_call(ag__\u001b[39m.\u001b[39mld(step_function), (ag__\u001b[39m.\u001b[39mld(\u001b[39mself\u001b[39m), ag__\u001b[39m.\u001b[39mld(iterator)), \u001b[39mNone\u001b[39;00m, fscope)\n\u001b[1;32m     16\u001b[0m \u001b[39mexcept\u001b[39;00m:\n\u001b[1;32m     17\u001b[0m     do_return \u001b[39m=\u001b[39m \u001b[39mFalse\u001b[39;00m\n",
      "\u001b[0;31mValueError\u001b[0m: in user code:\n\n    File \"/Users/jperrsau/opt/anaconda3/envs/distill-env/lib/python3.9/site-packages/keras/engine/training.py\", line 1845, in predict_function  *\n        return step_function(self, iterator)\n    File \"/Users/jperrsau/opt/anaconda3/envs/distill-env/lib/python3.9/site-packages/keras/engine/training.py\", line 1834, in step_function  **\n        outputs = model.distribute_strategy.run(run_step, args=(data,))\n    File \"/Users/jperrsau/opt/anaconda3/envs/distill-env/lib/python3.9/site-packages/keras/engine/training.py\", line 1823, in run_step  **\n        outputs = model.predict_step(data)\n    File \"/Users/jperrsau/opt/anaconda3/envs/distill-env/lib/python3.9/site-packages/keras/engine/training.py\", line 1791, in predict_step\n        return self(x, training=False)\n    File \"/Users/jperrsau/opt/anaconda3/envs/distill-env/lib/python3.9/site-packages/keras/utils/traceback_utils.py\", line 67, in error_handler\n        raise e.with_traceback(filtered_tb) from None\n    File \"/Users/jperrsau/opt/anaconda3/envs/distill-env/lib/python3.9/site-packages/keras/engine/input_spec.py\", line 264, in assert_input_compatibility\n        raise ValueError(f'Input {input_index} of layer \"{layer_name}\" is '\n\n    ValueError: Input 0 of layer \"sequential\" is incompatible with the layer: expected shape=(None, 5), found shape=(32, 1, 1, 5)\n"
     ]
    }
   ],
   "source": [
    "synthetic_outputs_pred = student_model.predict(synthetic_inputs)\n",
    "\n",
    "plt.scatter(synthetic_inputs[:,0], synthetic_inputs[:,1], c=synthetic_outputs_pred[:,0])\n",
    "plt.title(\"Teacher Model Output 0 projected on to Input 0 and Input 1\")\n",
    "plt.xlabel(\"Input 0\")\n",
    "plt.ylabel(\"Input 1\")\n",
    "plt.colorbar()\n",
    "plt.show()\n",
    "\n",
    "plt.scatter(synthetic_inputs[:,0], synthetic_inputs[:,1], c=synthetic_outputs[:,0])\n",
    "plt.title(\"Student Model Output 0 projected on to Input 0 and Input 1\")\n",
    "plt.xlabel(\"Input 0\")\n",
    "plt.ylabel(\"Input 1\")\n",
    "plt.colorbar()\n",
    "plt.show()\n",
    "\n",
    "plt.scatter(synthetic_inputs[:,0], synthetic_inputs[:,1], c=synthetic_outputs[:,0]-synthetic_outputs_pred[:,0],cmap=\"inferno_r\")\n",
    "plt.title(\"Delta\")\n",
    "plt.xlabel(\"Input 0\")\n",
    "plt.ylabel(\"Input 1\")\n",
    "plt.colorbar()\n",
    "plt.show()"
   ]
  },
  {
   "cell_type": "code",
   "execution_count": 8,
   "metadata": {},
   "outputs": [
    {
     "data": {
      "text/plain": [
       "0.17402053"
      ]
     },
     "execution_count": 8,
     "metadata": {},
     "output_type": "execute_result"
    }
   ],
   "source": [
    "(synthetic_outputs - synthetic_outputs_pred)[:,0].max()"
   ]
  },
  {
   "cell_type": "code",
   "execution_count": 9,
   "metadata": {},
   "outputs": [
    {
     "data": {
      "text/plain": [
       "1.6487188"
      ]
     },
     "execution_count": 9,
     "metadata": {},
     "output_type": "execute_result"
    }
   ],
   "source": [
    "np.linalg.norm(synthetic_outputs, axis=1).mean()"
   ]
  },
  {
   "cell_type": "code",
   "execution_count": 10,
   "metadata": {},
   "outputs": [
    {
     "data": {
      "text/plain": [
       "0.6327621"
      ]
     },
     "execution_count": 10,
     "metadata": {},
     "output_type": "execute_result"
    }
   ],
   "source": [
    "np.linalg.norm((synthetic_outputs - synthetic_outputs_pred), axis=1).max()"
   ]
  },
  {
   "cell_type": "markdown",
   "metadata": {},
   "source": [
    "## Measure the Closeness of student and teacher networks"
   ]
  },
  {
   "cell_type": "code",
   "execution_count": 11,
   "metadata": {},
   "outputs": [
    {
     "data": {
      "text/plain": [
       "(<keras.engine.sequential.Sequential at 0x1404dcf70>,\n",
       " <onnx_tf.backend_rep.TensorflowRep at 0x14027cb50>)"
      ]
     },
     "execution_count": 11,
     "metadata": {},
     "output_type": "execute_result"
    }
   ],
   "source": [
    "student_model, acas_xu"
   ]
  },
  {
   "cell_type": "code",
   "execution_count": 12,
   "metadata": {},
   "outputs": [
    {
     "name": "stdout",
     "output_type": "stream",
     "text": [
      "63/63 [==============================] - 0s 1ms/step\n"
     ]
    }
   ],
   "source": [
    "synthetic_inputs = (rng.random((2000,1,1,5),dtype=\"float32\")-0.5)*2\n",
    "# synthetic_inputs = scipy.qmc.sobol()\n",
    "\n",
    "onnx_outputs = acas_xu.run(synthetic_inputs)\n",
    "synthetic_inputs = synthetic_inputs.reshape((2000,5))\n",
    "synthetic_outputs_teacher = onnx_outputs.linear_7_Add\n",
    "\n",
    "synthetic_outputs_student = student_model.predict(synthetic_inputs)"
   ]
  },
  {
   "cell_type": "code",
   "execution_count": 13,
   "metadata": {},
   "outputs": [
    {
     "data": {
      "text/plain": [
       "Text(0.5, 1.0, 'Error Distribution (MSE)')"
      ]
     },
     "execution_count": 13,
     "metadata": {},
     "output_type": "execute_result"
    },
    {
     "data": {
      "image/png": "[encoded data removed]",
      "text/plain": [
       "<Figure size 432x288 with 1 Axes>"
      ]
     },
     "metadata": {
      "needs_background": "light"
     },
     "output_type": "display_data"
    }
   ],
   "source": [
    "diff = np.sqrt(np.sum((synthetic_outputs_teacher - synthetic_outputs_student)**2, axis=1))\n",
    "#diff = np.max(np.abs(synthetic_outputs_teacher - synthetic_outputs_student), axis=1) #infinity norm\n",
    "\n",
    "plt.hist(diff, bins=100)\n",
    "\n",
    "plt.title(\"Error Distribution (MSE)\")\n",
    "\n",
    "## Probably gamma or beta distributed?"
   ]
  },
  {
   "cell_type": "code",
   "execution_count": 14,
   "metadata": {},
   "outputs": [
    {
     "data": {
      "text/plain": [
       "1.169281154870987"
      ]
     },
     "execution_count": 14,
     "metadata": {},
     "output_type": "execute_result"
    }
   ],
   "source": [
    "np.quantile(diff, 0.99)"
   ]
  },
  {
   "cell_type": "code",
   "execution_count": 15,
   "metadata": {},
   "outputs": [
    {
     "name": "stdout",
     "output_type": "stream",
     "text": [
      "63/63 [==============================] - 0s 1ms/step\n",
      "63/63 [==============================] - 0s 1ms/step\n",
      "63/63 [==============================] - 0s 942us/step\n",
      "63/63 [==============================] - 0s 1ms/step\n",
      "63/63 [==============================] - 0s 956us/step\n",
      "63/63 [==============================] - 0s 900us/step\n",
      "63/63 [==============================] - 0s 1ms/step\n",
      "63/63 [==============================] - 0s 1ms/step\n",
      "63/63 [==============================] - 0s 1ms/step\n",
      "63/63 [==============================] - 0s 973us/step\n",
      "63/63 [==============================] - 0s 1ms/step\n",
      "63/63 [==============================] - 0s 969us/step\n",
      "63/63 [==============================] - 0s 900us/step\n",
      "63/63 [==============================] - 0s 908us/step\n",
      "63/63 [==============================] - 0s 942us/step\n",
      "63/63 [==============================] - 0s 1ms/step\n",
      "63/63 [==============================] - 0s 1ms/step\n",
      "63/63 [==============================] - 0s 984us/step\n",
      "63/63 [==============================] - 0s 917us/step\n",
      "63/63 [==============================] - 0s 1ms/step\n",
      "63/63 [==============================] - 0s 976us/step\n",
      "63/63 [==============================] - 0s 962us/step\n",
      "63/63 [==============================] - 0s 1ms/step\n",
      "63/63 [==============================] - 0s 1ms/step\n",
      "63/63 [==============================] - 0s 1ms/step\n",
      "63/63 [==============================] - 0s 968us/step\n",
      "63/63 [==============================] - 0s 1ms/step\n",
      "63/63 [==============================] - 0s 1ms/step\n",
      "63/63 [==============================] - 0s 1ms/step\n",
      "63/63 [==============================] - 0s 1ms/step\n",
      "63/63 [==============================] - 0s 1ms/step\n",
      "63/63 [==============================] - 0s 1ms/step\n",
      "63/63 [==============================] - 0s 1ms/step\n",
      "63/63 [==============================] - 0s 1ms/step\n",
      "63/63 [==============================] - 0s 1ms/step\n",
      "63/63 [==============================] - 0s 1ms/step\n",
      "63/63 [==============================] - 0s 1ms/step\n",
      "63/63 [==============================] - 0s 1ms/step\n",
      "63/63 [==============================] - 0s 1ms/step\n",
      "63/63 [==============================] - 0s 1ms/step\n",
      "63/63 [==============================] - 0s 2ms/step\n",
      "63/63 [==============================] - 0s 2ms/step\n",
      "63/63 [==============================] - 0s 1ms/step\n",
      "63/63 [==============================] - 0s 1ms/step\n",
      "63/63 [==============================] - 0s 1ms/step\n",
      "63/63 [==============================] - 0s 1ms/step\n",
      "63/63 [==============================] - 0s 994us/step\n",
      "63/63 [==============================] - 0s 1ms/step\n",
      "63/63 [==============================] - 0s 1ms/step\n",
      "63/63 [==============================] - 0s 951us/step\n",
      "63/63 [==============================] - 0s 1ms/step\n",
      "63/63 [==============================] - 0s 1ms/step\n",
      "63/63 [==============================] - 0s 1ms/step\n",
      "63/63 [==============================] - 0s 983us/step\n",
      "63/63 [==============================] - 0s 1ms/step\n",
      "63/63 [==============================] - 0s 1ms/step\n",
      "63/63 [==============================] - 0s 976us/step\n",
      "63/63 [==============================] - 0s 2ms/step\n",
      "63/63 [==============================] - 0s 1ms/step\n",
      "63/63 [==============================] - 0s 1ms/step\n",
      "63/63 [==============================] - 0s 1ms/step\n",
      "63/63 [==============================] - 0s 1ms/step\n",
      "63/63 [==============================] - 0s 1ms/step\n",
      "63/63 [==============================] - 0s 1ms/step\n",
      "63/63 [==============================] - 0s 1ms/step\n",
      "63/63 [==============================] - 0s 2ms/step\n",
      "63/63 [==============================] - 0s 1ms/step\n",
      "63/63 [==============================] - 0s 1ms/step\n",
      "63/63 [==============================] - 0s 2ms/step\n",
      "63/63 [==============================] - 0s 2ms/step\n",
      "63/63 [==============================] - 0s 2ms/step\n",
      "63/63 [==============================] - 0s 1ms/step\n",
      "63/63 [==============================] - 0s 1ms/step\n",
      "63/63 [==============================] - 0s 1ms/step\n",
      "63/63 [==============================] - 0s 1ms/step\n",
      "63/63 [==============================] - 0s 1ms/step\n",
      "63/63 [==============================] - 0s 1ms/step\n",
      "63/63 [==============================] - 0s 1ms/step\n",
      "63/63 [==============================] - 0s 2ms/step\n",
      "63/63 [==============================] - 0s 2ms/step\n",
      "63/63 [==============================] - 0s 1ms/step\n",
      "63/63 [==============================] - 0s 1ms/step\n",
      "63/63 [==============================] - 0s 1ms/step\n",
      "63/63 [==============================] - 0s 2ms/step\n",
      "63/63 [==============================] - 0s 2ms/step\n",
      "63/63 [==============================] - 0s 2ms/step\n",
      "63/63 [==============================] - 0s 2ms/step\n",
      "63/63 [==============================] - 0s 1ms/step\n",
      "63/63 [==============================] - 0s 1ms/step\n",
      "63/63 [==============================] - 0s 2ms/step\n",
      "63/63 [==============================] - 0s 1ms/step\n",
      "63/63 [==============================] - 0s 1ms/step\n",
      "63/63 [==============================] - 0s 1ms/step\n",
      "63/63 [==============================] - 0s 1ms/step\n",
      "63/63 [==============================] - 0s 2ms/step\n",
      "63/63 [==============================] - 0s 2ms/step\n",
      "63/63 [==============================] - 0s 2ms/step\n",
      "63/63 [==============================] - 0s 2ms/step\n",
      "63/63 [==============================] - 0s 2ms/step\n",
      "63/63 [==============================] - 0s 2ms/step\n"
     ]
    }
   ],
   "source": [
    "p99 = []\n",
    "points_per_iteration = 2000\n",
    "\n",
    "for mc_iteration in range(100):\n",
    "\n",
    "    synthetic_inputs = (rng.random((points_per_iteration,1,1,5),dtype=\"float32\")-0.5)*2\n",
    "\n",
    "    onnx_outputs = acas_xu.run(synthetic_inputs)\n",
    "    synthetic_inputs = synthetic_inputs.reshape((points_per_iteration,5))\n",
    "    synthetic_outputs_teacher = onnx_outputs.linear_7_Add\n",
    "    synthetic_outputs_student = student_model.predict(synthetic_inputs)\n",
    "\n",
    "    diff = np.sqrt(np.sum((synthetic_outputs_teacher - synthetic_outputs_student)**2, axis=1))\n",
    "    p99.append(np.quantile(diff, 0.99))\n"
   ]
  },
  {
   "cell_type": "code",
   "execution_count": 16,
   "metadata": {},
   "outputs": [
    {
     "data": {
      "image/png": "[encoded data removed]",
      "text/plain": [
       "<Figure size 432x288 with 1 Axes>"
      ]
     },
     "metadata": {
      "needs_background": "light"
     },
     "output_type": "display_data"
    }
   ],
   "source": [
    "plt.hist(p99, bins=10)\n",
    "plt.show()"
   ]
  },
  {
   "cell_type": "code",
   "execution_count": 17,
   "metadata": {},
   "outputs": [
    {
     "data": {
      "text/plain": [
       "(1.2671367528915405, 0.08229062140355549)"
      ]
     },
     "execution_count": 17,
     "metadata": {},
     "output_type": "execute_result"
    }
   ],
   "source": [
    "np.mean(p99), np.std(p99)"
   ]
  },
  {
   "cell_type": "code",
   "execution_count": 18,
   "metadata": {},
   "outputs": [
    {
     "data": {
      "text/plain": [
       "0.21230980322117315"
      ]
     },
     "execution_count": 18,
     "metadata": {},
     "output_type": "execute_result"
    }
   ],
   "source": [
    "np.std(p99) * 2.58"
   ]
  },
  {
   "cell_type": "code",
   "execution_count": null,
   "metadata": {},
   "outputs": [],
   "source": []
  },
  {
   "cell_type": "markdown",
   "metadata": {},
   "source": [
    "## Verify student and teacher networks\n",
    "\n",
    "Use the 10 properties provided in VNNComp to check if the student network satisfies the safety properties. Produce the following:\n",
    "\n",
    "- Timing information\n",
    "- Counterexamples\n",
    "- Failiure modes of nnenum\n",
    "- List of verified networks"
   ]
  },
  {
   "cell_type": "markdown",
   "metadata": {},
   "source": [
    "## NNenum"
   ]
  },
  {
   "cell_type": "code",
   "execution_count": 19,
   "metadata": {},
   "outputs": [
    {
     "name": "stdout",
     "output_type": "stream",
     "text": [
      "INFO:tensorflow:Assets written to: ./distill_qmc_closeness_acas_student_model/assets\n"
     ]
    }
   ],
   "source": [
    "tf.saved_model.save(student_model, \"./distill_qmc_closeness_acas_student_model\")"
   ]
  },
  {
   "cell_type": "code",
   "execution_count": 20,
   "metadata": {
    "vscode": {
     "languageId": "shellscript"
    }
   },
   "outputs": [
    {
     "name": "stdout",
     "output_type": "stream",
     "text": [
      "/Users/jperrsau/opt/anaconda3/envs/distill-env/lib/python3.9/runpy.py:127: RuntimeWarning: 'tf2onnx.convert' found in sys.modules after import of package 'tf2onnx', but prior to execution of 'tf2onnx.convert'; this may result in unpredictable behaviour\n",
      "  warn(RuntimeWarning(msg))\n",
      "2022-10-05 10:05:58,696 - WARNING - '--tag' not specified for saved_model. Using --tag serve\n",
      "2022-10-05 10:05:59,022 - INFO - Signatures found in model: [serving_default].\n",
      "2022-10-05 10:05:59,022 - WARNING - '--signature_def' not specified, using first signature: serving_default\n",
      "2022-10-05 10:05:59,023 - INFO - Output names: ['dense_4']\n",
      "WARNING:tensorflow:From /Users/jperrsau/opt/anaconda3/envs/distill-env/lib/python3.9/site-packages/tf2onnx/tf_loader.py:711: extract_sub_graph (from tensorflow.python.framework.graph_util_impl) is deprecated and will be removed in a future version.\n",
      "Instructions for updating:\n",
      "Use `tf.compat.v1.graph_util.extract_sub_graph`\n",
      "2022-10-05 10:05:59,087 - WARNING - From /Users/jperrsau/opt/anaconda3/envs/distill-env/lib/python3.9/site-packages/tf2onnx/tf_loader.py:711: extract_sub_graph (from tensorflow.python.framework.graph_util_impl) is deprecated and will be removed in a future version.\n",
      "Instructions for updating:\n",
      "Use `tf.compat.v1.graph_util.extract_sub_graph`\n",
      "2022-10-05 10:05:59,109 - INFO - Using tensorflow=2.9.1, onnx=1.12.0, tf2onnx=1.11.1/1915fb\n",
      "2022-10-05 10:05:59,110 - INFO - Using opset <onnx, 11>\n",
      "2022-10-05 10:05:59,150 - INFO - Computed 0 values for constant folding\n",
      "2022-10-05 10:05:59,187 - INFO - Optimizing ONNX model\n",
      "2022-10-05 10:05:59,259 - INFO - After optimization: Identity -5 (5->0)\n",
      "2022-10-05 10:05:59,261 - INFO - \n",
      "2022-10-05 10:05:59,261 - INFO - Successfully converted TensorFlow model ./distill_qmc_closeness_acas_student_model/ to ONNX\n",
      "2022-10-05 10:05:59,261 - INFO - Model inputs: ['dense_input']\n",
      "2022-10-05 10:05:59,261 - INFO - Model outputs: ['dense_4']\n",
      "2022-10-05 10:05:59,261 - INFO - ONNX model is saved at distill_qmc_closeness_acas_student_model.onnx\n"
     ]
    }
   ],
   "source": [
    "!python -m tf2onnx.convert --saved-model ./distill_qmc_closeness_acas_student_model/ --output distill_qmc_closeness_acas_student_model.onnx --opset 11"
   ]
  },
  {
   "cell_type": "code",
   "execution_count": 22,
   "metadata": {
    "vscode": {
     "languageId": "shellscript"
    }
   },
   "outputs": [
    {
     "name": "stdout",
     "output_type": "stream",
     "text": [
      "all input names: ['dense_input', 'StatefulPartitionedCall/sequential/dense/MatMul/ReadVariableOp:0', 'StatefulPartitionedCall/sequential/dense/MatMul:0', 'StatefulPartitionedCall/sequential/dense/BiasAdd/ReadVariableOp:0', 'StatefulPartitionedCall/sequential/dense/BiasAdd:0', 'StatefulPartitionedCall/sequential/dense/Relu:0', 'StatefulPartitionedCall/sequential/dense_1/MatMul/ReadVariableOp:0', 'StatefulPartitionedCall/sequential/dense_1/MatMul:0', 'StatefulPartitionedCall/sequential/dense_1/BiasAdd/ReadVariableOp:0', 'StatefulPartitionedCall/sequential/dense_1/BiasAdd:0', 'StatefulPartitionedCall/sequential/dense_1/Relu:0', 'StatefulPartitionedCall/sequential/dense_2/MatMul/ReadVariableOp:0', 'StatefulPartitionedCall/sequential/dense_2/MatMul:0', 'StatefulPartitionedCall/sequential/dense_2/BiasAdd/ReadVariableOp:0', 'StatefulPartitionedCall/sequential/dense_2/BiasAdd:0', 'StatefulPartitionedCall/sequential/dense_2/Relu:0', 'StatefulPartitionedCall/sequential/dense_3/MatMul/ReadVariableOp:0', 'StatefulPartitionedCall/sequential/dense_3/MatMul:0', 'StatefulPartitionedCall/sequential/dense_3/BiasAdd/ReadVariableOp:0', 'StatefulPartitionedCall/sequential/dense_3/BiasAdd:0', 'StatefulPartitionedCall/sequential/dense_3/Relu:0', 'StatefulPartitionedCall/sequential/dense_4/MatMul/ReadVariableOp:0', 'StatefulPartitionedCall/sequential/dense_4/MatMul:0', 'StatefulPartitionedCall/sequential/dense_4/BiasAdd/ReadVariableOp:0']\n",
      "Running in parallel with 6 processes\n",
      "(0.1 sec) Q: 0, Sets: 0/1  (0.0%) ETA: - (expected 1 stars)   \n",
      "(0.2 sec) Q: 1, Sets: 8/11  (62.5%) ETA: 0.1 sec (expected 13 stars)   \n",
      "\n",
      "\n",
      "\n",
      "Total Stars: 17 (0 exact, 17 approx)\n",
      "Runtime: 0.3 sec\n",
      "Completed work frac: 1.0\n",
      "Num Stars Copied Between Processes: 5\n",
      "Num Lps During Enumeration: 0\n",
      "Total Num Lps: 0\n",
      "\n",
      "Result: network is SAFE\n"
     ]
    }
   ],
   "source": [
    "!docker run -it -v $(PWD):/my_work nnenum_image python3 -m nnenum.nnenum /my_work/distill_qmc_closeness_acas_student_model.onnx /my_work/data/acasxu/prop_1.vnnlib"
   ]
  },
  {
   "cell_type": "code",
   "execution_count": 23,
   "metadata": {
    "vscode": {
     "languageId": "shellscript"
    }
   },
   "outputs": [
    {
     "name": "stdout",
     "output_type": "stream",
     "text": [
      "all input names: ['input', 'input_AvgImg', 'input_Sub', 'Operation_1_Flatten', 'Operation_1_MatMul_W', 'Operation_1_MatMul', 'Operation_1_Add_B', 'Operation_1_Add', 'relu_1', 'Operation_2_MatMul_W', 'Operation_2_MatMul', 'Operation_2_Add_B', 'Operation_2_Add', 'relu_2', 'Operation_3_MatMul_W', 'Operation_3_MatMul', 'Operation_3_Add_B', 'Operation_3_Add', 'relu_3', 'Operation_4_MatMul_W', 'Operation_4_MatMul', 'Operation_4_Add_B', 'Operation_4_Add', 'relu_4', 'Operation_5_MatMul_W', 'Operation_5_MatMul', 'Operation_5_Add_B', 'Operation_5_Add', 'relu_5', 'Operation_6_MatMul_W', 'Operation_6_MatMul', 'Operation_6_Add_B', 'Operation_6_Add', 'relu_6', 'linear_7_MatMul_W', 'linear_7_MatMul', 'linear_7_Add_B']\n",
      "Running in parallel with 6 processes\n",
      "(0.1 sec) Q: 0, Sets: 0/1  (0.0%) ETA: - (expected 1 stars)   \n",
      "(0.2 sec) Q: 0, Sets: 0/5  (0.0%) ETA: - (expected 1 stars)   \n",
      "(0.4 sec) Q: 8, Sets: 47/77  (22.377%) ETA: 1.2 sec (expected 210 stars)   \n",
      "(0.8 sec) Q: 0, Sets: 283/287  (95.898%) ETA: 0.0 sec (expected 295 stars)   \n",
      "\n",
      "\n",
      "\n",
      "Total Stars: 298 (5 exact, 293 approx)\n",
      "Runtime: 0.8 sec\n",
      "Completed work frac: 1.0\n",
      "Num Stars Copied Between Processes: 36\n",
      "Num Lps During Enumeration: 96\n",
      "Total Num Lps: 96\n",
      "\n",
      "Result: network is SAFE\n"
     ]
    }
   ],
   "source": [
    "!docker run -it -v $(PWD):/my_work nnenum_image python3 -m nnenum.nnenum /my_work/data/acasxu/ACASXU_run2a_1_1_batch_2000.onnx /my_work/data/acasxu/prop_1.vnnlib"
   ]
  },
  {
   "cell_type": "markdown",
   "metadata": {},
   "source": [
    "## All 10 properties with timing"
   ]
  },
  {
   "cell_type": "code",
   "execution_count": 24,
   "metadata": {},
   "outputs": [],
   "source": [
    "import subprocess\n",
    "import re"
   ]
  },
  {
   "cell_type": "code",
   "execution_count": 25,
   "metadata": {},
   "outputs": [
    {
     "name": "stdout",
     "output_type": "stream",
     "text": [
      "Property 1\n",
      "\tStudent:\tTime=0.3\tOutput=network is SAFE\n",
      "\tTeacher:\tTime=0.6\tOutput=network is SAFE\n",
      "Property 2\n",
      "\tStudent:\tTime=1.1\tOutput=network is SAFE\n",
      "\tTeacher:\tTime=1.3\tOutput=network is SAFE\n",
      "Property 3\n",
      "\tStudent:\tTime=0.1\tOutput=network is SAFE\n",
      "\tTeacher:\tTime=2.3\tOutput=network is SAFE\n",
      "Property 4\n",
      "\tStudent:\tTime=0.4\tOutput=network is SAFE\n",
      "\tTeacher:\tTime=1.2\tOutput=network is SAFE\n",
      "Property 5\n",
      "\tStudent:\tTime=0.4\tOutput=network is SAFE\n",
      "\tTeacher:\tTime=4.2\tOutput=network is SAFE\n",
      "Property 6\n",
      "\tStudent:\tTime=0.1\tOutput=network is UNSAFE with confirmed counterexample in result\n",
      "\tTeacher:\tTime=9.4\tOutput=network is SAFE\n",
      "Running in parallel with \n",
      "Property 7\n",
      "\tStudent:\tTime=0.1\tOutput=network is UNSAFE with confirmed counterexample in result\n",
      "\tTeacher:\tTime=0.1\tOutput=network is UNSAFE with confirmed counterexample in result\n",
      "Property 8\n",
      "\tStudent:\tTime=0.1\tOutput=network is UNSAFE with confirmed counterexample in result\n",
      "\tTeacher:\tTime=0.1\tOutput=network is UNSAFE with confirmed counterexample in result\n",
      "Property 9\n",
      "\tStudent:\tTime=0.1\tOutput=network is UNSAFE with confirmed counterexample in result\n",
      "\tTeacher:\tTime=7.7\tOutput=network is UNSAFE with confirmed counterexample in result\n",
      "Property 10\n",
      "\tStudent:\tTime=0.1\tOutput=network is UNSAFE with confirmed counterexample in result\n",
      "\tTeacher:\tTime=0.3\tOutput=network is SAFE\n"
     ]
    }
   ],
   "source": [
    "for prop in range(1,10+1):\n",
    "    print(f\"Property {prop}\")\n",
    "\n",
    "    cmd = f\"docker run -v $(PWD):/my_work nnenum_image python3 -m nnenum.nnenum /my_work/distill_qmc_closeness_acas_student_model.onnx /my_work/data/acasxu/prop_{prop}.vnnlib\"\n",
    "    result = subprocess.getoutput(cmd)\n",
    "    runtime_re = re.search(\"Runtime: (\\d+\\.\\d+)\", result).groups(0)[0]\n",
    "    result_re = re.search(\"Result: ([a-zA-Z\\s]+)\", result).groups(0)[0]\n",
    "    print(f\"\\tStudent:\\tTime={runtime_re}\\tOutput={result_re}\")\n",
    "\n",
    "    cmd = f\"docker run -v $(PWD):/my_work nnenum_image python3 -m nnenum.nnenum /my_work/data/acasxu/ACASXU_run2a_1_1_batch_2000.onnx /my_work/data/acasxu/prop_{prop}.vnnlib\"\n",
    "    result = subprocess.getoutput(cmd)\n",
    "    runtime_re = re.search(\"Runtime: (\\d+\\.\\d+)\", result).groups(0)[0]\n",
    "    result_re = re.search(\"Result: ([a-zA-Z\\s]+)\", result).groups(0)[0]\n",
    "    print(f\"\\tTeacher:\\tTime={runtime_re}\\tOutput={result_re}\")\n",
    "\n",
    "\n",
    "    "
   ]
  },
  {
   "cell_type": "markdown",
   "metadata": {},
   "source": [
    "### What do the counterexamples look like?"
   ]
  },
  {
   "cell_type": "code",
   "execution_count": 26,
   "metadata": {},
   "outputs": [
    {
     "name": "stdout",
     "output_type": "stream",
     "text": [
      "Property 4\n",
      "all input names: ['dense_input', 'StatefulPartitionedCall/sequential/dense/MatMul/ReadVariableOp:0', 'StatefulPartitionedCall/sequential/dense/MatMul:0', 'StatefulPartitionedCall/sequential/dense/BiasAdd/ReadVariableOp:0', 'StatefulPartitionedCall/sequential/dense/BiasAdd:0', 'StatefulPartitionedCall/sequential/dense/Relu:0', 'StatefulPartitionedCall/sequential/dense_1/MatMul/ReadVariableOp:0', 'StatefulPartitionedCall/sequential/dense_1/MatMul:0', 'StatefulPartitionedCall/sequential/dense_1/BiasAdd/ReadVariableOp:0', 'StatefulPartitionedCall/sequential/dense_1/BiasAdd:0', 'StatefulPartitionedCall/sequential/dense_1/Relu:0', 'StatefulPartitionedCall/sequential/dense_2/MatMul/ReadVariableOp:0', 'StatefulPartitionedCall/sequential/dense_2/MatMul:0', 'StatefulPartitionedCall/sequential/dense_2/BiasAdd/ReadVariableOp:0', 'StatefulPartitionedCall/sequential/dense_2/BiasAdd:0', 'StatefulPartitionedCall/sequential/dense_2/Relu:0', 'StatefulPartitionedCall/sequential/dense_3/MatMul/ReadVariableOp:0', 'StatefulPartitionedCall/sequential/dense_3/MatMul:0', 'StatefulPartitionedCall/sequential/dense_3/BiasAdd/ReadVariableOp:0', 'StatefulPartitionedCall/sequential/dense_3/BiasAdd:0', 'StatefulPartitionedCall/sequential/dense_3/Relu:0', 'StatefulPartitionedCall/sequential/dense_4/MatMul/ReadVariableOp:0', 'StatefulPartitionedCall/sequential/dense_4/MatMul:0', 'StatefulPartitionedCall/sequential/dense_4/BiasAdd/ReadVariableOp:0']\n",
      "Running in parallel with 6 processes\n",
      "(0.0 sec) Q: 0, Sets: 0/1  (0.0%) ETA: - (expected 1 stars)   \n",
      "(0.2 sec) Q: 0, Sets: 1/5  (6.25%) ETA: 2.3 sec (expected 16 stars)   \n",
      "(0.3 sec) Q: 0, Sets: 12/21  (56.25%) ETA: 0.2 sec (expected 21 stars)   \n",
      "\n",
      "\n",
      "Total Stars: 25 (0 exact, 25 approx)\n",
      "Runtime: 0.4 sec\n",
      "Completed work frac: 1.0\n",
      "Num Stars Copied Between Processes: 13\n",
      "Num Lps During Enumeration: 0\n",
      "Total Num Lps: 0\n",
      "\n",
      "Result: network is SAFE\n"
     ]
    }
   ],
   "source": [
    "prop = 4\n",
    "\n",
    "print(f\"Property {prop}\")\n",
    "cmd = f\"docker run -v $(PWD):/my_work nnenum_image python3 -m nnenum.nnenum /my_work/distill_qmc_closeness_acas_student_model.onnx /my_work/data/acasxu/prop_{prop}.vnnlib\"\n",
    "result = subprocess.getoutput(cmd)\n",
    "print(result)\n",
    "\n",
    "\n",
    "\n",
    "    "
   ]
  },
  {
   "cell_type": "code",
   "execution_count": null,
   "metadata": {},
   "outputs": [],
   "source": []
  }
 ],
 "metadata": {
  "kernelspec": {
   "display_name": "Python 3.9.13 ('distill-env')",
   "language": "python",
   "name": "python3"
  },
  "language_info": {
   "codemirror_mode": {
    "name": "ipython",
    "version": 3
   },
   "file_extension": ".py",
   "mimetype": "text/x-python",
   "name": "python",
   "nbconvert_exporter": "python",
   "pygments_lexer": "ipython3",
   "version": "3.9.13"
  },
  "orig_nbformat": 4,
  "vscode": {
   "interpreter": {
    "hash": "524150bdde5c6caad142be3d47661914d0eeff227b07b1b49eb623a6ebf1f1a3"
   }
  }
 },
 "nbformat": 4,
 "nbformat_minor": 2
}
