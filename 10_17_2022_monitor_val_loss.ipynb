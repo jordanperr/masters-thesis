{
 "cells": [
  {
   "cell_type": "code",
   "execution_count": 1,
   "metadata": {},
   "outputs": [],
   "source": [
    "import numpy as np\n",
    "import matplotlib.pyplot as plt\n",
    "import pandas as pd\n",
    "import tensorflow as tf\n",
    "\n",
    "import onnx\n",
    "import onnx_tf\n",
    "import onnxruntime\n",
    "\n",
    "rng = np.random.default_rng()"
   ]
  },
  {
   "cell_type": "code",
   "execution_count": 2,
   "metadata": {},
   "outputs": [],
   "source": [
    "import scipy.stats.qmc"
   ]
  },
  {
   "cell_type": "markdown",
   "metadata": {},
   "source": [
    "# Study whether QMC sampling can improve distillation efficieny\n",
    "\n",
    "## Data-Free case"
   ]
  },
  {
   "cell_type": "code",
   "execution_count": 3,
   "metadata": {},
   "outputs": [
    {
     "name": "stderr",
     "output_type": "stream",
     "text": [
      "2022-10-17 11:26:52.998270: I tensorflow/core/platform/cpu_feature_guard.cc:193] This TensorFlow binary is optimized with oneAPI Deep Neural Network Library (oneDNN) to use the following CPU instructions in performance-critical operations:  AVX2 FMA\n",
      "To enable them in other operations, rebuild TensorFlow with the appropriate compiler flags.\n"
     ]
    }
   ],
   "source": [
    "acas_xu = onnx.load(\"/Users/jperrsau/cu-src/thesis/src/nnenum/examples/acasxu/data/ACASXU_run2a_1_1_batch_2000.onnx\")\n",
    "\n",
    "acas_xu = onnx_tf.backend.prepare(acas_xu)\n",
    "\n",
    "inputs = (rng.random((4096,1,1,5),dtype=\"float32\")-0.5)*2\n",
    "#inputs = (np.array(scipy.stats.qmc.Sobol(5).random_base2(int(np.log2(2048))), dtype=\"float32\").reshape((2048,1,1,5))-0.5)*2\n",
    "\n",
    "onnx_outputs = acas_xu.run(inputs)\n",
    "\n",
    "outputs = onnx_outputs.linear_7_Add"
   ]
  },
  {
   "cell_type": "markdown",
   "metadata": {},
   "source": [
    "## Train student network using Data-Free Distillation"
   ]
  },
  {
   "cell_type": "code",
   "execution_count": 5,
   "metadata": {},
   "outputs": [],
   "source": [
    "## Generate synthetic dataset using a random distribution.\n",
    "\n",
    "synthetic_inputs = (rng.random((4096,1,1,5),dtype=\"float32\")-0.5)*2\n",
    "\n",
    "onnx_outputs = acas_xu.run(synthetic_inputs)\n",
    "\n",
    "synthetic_inputs_train = synthetic_inputs.reshape((4096,5))[:3000]\n",
    "synthetic_outputs_train = onnx_outputs.linear_7_Add[:3000]\n",
    "\n",
    "\n",
    "synthetic_inputs_val = synthetic_inputs.reshape((4096,5))[3000:]\n",
    "synthetic_outputs_val = onnx_outputs.linear_7_Add[3000:]\n"
   ]
  },
  {
   "cell_type": "code",
   "execution_count": 41,
   "metadata": {},
   "outputs": [
    {
     "name": "stdout",
     "output_type": "stream",
     "text": [
      "Model: \"sequential_8\"\n",
      "_________________________________________________________________\n",
      " Layer (type)                Output Shape              Param #   \n",
      "=================================================================\n",
      " dense_64 (Dense)            (None, 50)                300       \n",
      "                                                                 \n",
      " dense_65 (Dense)            (None, 50)                2550      \n",
      "                                                                 \n",
      " dense_66 (Dense)            (None, 50)                2550      \n",
      "                                                                 \n",
      " dense_67 (Dense)            (None, 50)                2550      \n",
      "                                                                 \n",
      " dense_68 (Dense)            (None, 50)                2550      \n",
      "                                                                 \n",
      " dense_69 (Dense)            (None, 50)                2550      \n",
      "                                                                 \n",
      " dense_70 (Dense)            (None, 50)                2550      \n",
      "                                                                 \n",
      " dense_71 (Dense)            (None, 50)                2550      \n",
      "                                                                 \n",
      " dense_72 (Dense)            (None, 5)                 255       \n",
      "                                                                 \n",
      "=================================================================\n",
      "Total params: 18,405\n",
      "Trainable params: 18,405\n",
      "Non-trainable params: 0\n",
      "_________________________________________________________________\n"
     ]
    }
   ],
   "source": [
    "## Acas XU original is 8 hidden layers with 300 relu each\n",
    "#Katz, G., Barrett, C., Dill, D.L., Julian, K., Kochenderfer, M.J. (2017). Reluplex: An Efficient SMT Solver for Verifying Deep Neural Networks. In: Majumdar, R., Kunčak, V. (eds) Computer Aided Verification. CAV 2017. Lecture Notes in Computer Science(), vol 10426. Springer, Cham. https://doi.org/10.1007/978-3-319-63387-9_5\n",
    "\n",
    "hidden_layer_width=50\n",
    "num_hidden_layers=8\n",
    "\n",
    "## Input Layer\n",
    "layers = [\n",
    "    tf.keras.layers.Dense(\n",
    "        hidden_layer_width,\n",
    "        activation=tf.nn.relu,\n",
    "        input_shape=(5,),\n",
    "        kernel_initializer=tf.keras.initializers.GlorotUniform(),\n",
    "        bias_initializer=tf.keras.initializers.GlorotUniform()\n",
    "    )\n",
    "]\n",
    "\n",
    "## Hidden Layers\n",
    "for i in range(num_hidden_layers-1):\n",
    "    layers.append(\n",
    "        tf.keras.layers.Dense(hidden_layer_width,\n",
    "            activation=tf.nn.relu,\n",
    "            kernel_initializer=tf.keras.initializers.GlorotUniform(),\n",
    "            bias_initializer=tf.keras.initializers.GlorotUniform())\n",
    "    )\n",
    "\n",
    "## Output Layer\n",
    "layers.append(tf.keras.layers.Dense(5))\n",
    "\n",
    "student_model = tf.keras.Sequential(layers)\n",
    "\n",
    "student_model.summary()\n",
    "\n",
    "## Julian K uses an asymmetric loss function based on MSE. We use MSE here for now.\n",
    "\n",
    "student_model.compile(\n",
    "    loss=tf.keras.losses.MeanSquaredError(),\n",
    "    #loss=tf.keras.losses.KLDivergence(),\n",
    "    metrics=[tf.keras.metrics.MeanSquaredError(),tf.keras.metrics.KLDivergence(), tf.keras.metrics.CategoricalCrossentropy()],\n",
    "    optimizer=tf.keras.optimizers.Adam(0.001)\n",
    ")\n",
    "\n",
    "history = student_model.fit(\n",
    "    x=synthetic_inputs_train,\n",
    "    y=synthetic_outputs_train,#synthetic_outputs, #- Using logits in the loss function requires a different loss metric, like KLDivergence. But I couldn't get it working immediately.\n",
    "    epochs=500,\n",
    "    batch_size=128,\n",
    "    verbose=0,\n",
    "    validation_data = (synthetic_inputs_val, synthetic_outputs_val),\n",
    "    callbacks=[\n",
    "        tf.keras.callbacks.EarlyStopping(monitor='val_loss', patience=20)\n",
    "    ],\n",
    "    )\n"
   ]
  },
  {
   "cell_type": "code",
   "execution_count": 42,
   "metadata": {},
   "outputs": [
    {
     "data": {
      "image/png": "[encoded data removed]",
      "text/plain": [
       "<Figure size 432x288 with 1 Axes>"
      ]
     },
     "metadata": {
      "needs_background": "light"
     },
     "output_type": "display_data"
    }
   ],
   "source": [
    "plt.plot(history.history[\"val_loss\"])\n",
    "plt.plot(history.history[\"loss\"])\n",
    "plt.yscale(\"log\")"
   ]
  },
  {
   "cell_type": "code",
   "execution_count": 37,
   "metadata": {},
   "outputs": [
    {
     "data": {
      "text/plain": [
       "dict_keys(['loss', 'mean_squared_error', 'kullback_leibler_divergence', 'categorical_crossentropy', 'val_loss', 'val_mean_squared_error', 'val_kullback_leibler_divergence', 'val_categorical_crossentropy'])"
      ]
     },
     "execution_count": 37,
     "metadata": {},
     "output_type": "execute_result"
    }
   ],
   "source": [
    "history.history.keys()"
   ]
  },
  {
   "cell_type": "code",
   "execution_count": 7,
   "metadata": {},
   "outputs": [
    {
     "ename": "ValueError",
     "evalue": "in user code:\n\n    File \"/Users/jperrsau/opt/anaconda3/envs/distill-env/lib/python3.9/site-packages/keras/engine/training.py\", line 1845, in predict_function  *\n        return step_function(self, iterator)\n    File \"/Users/jperrsau/opt/anaconda3/envs/distill-env/lib/python3.9/site-packages/keras/engine/training.py\", line 1834, in step_function  **\n        outputs = model.distribute_strategy.run(run_step, args=(data,))\n    File \"/Users/jperrsau/opt/anaconda3/envs/distill-env/lib/python3.9/site-packages/keras/engine/training.py\", line 1823, in run_step  **\n        outputs = model.predict_step(data)\n    File \"/Users/jperrsau/opt/anaconda3/envs/distill-env/lib/python3.9/site-packages/keras/engine/training.py\", line 1791, in predict_step\n        return self(x, training=False)\n    File \"/Users/jperrsau/opt/anaconda3/envs/distill-env/lib/python3.9/site-packages/keras/utils/traceback_utils.py\", line 67, in error_handler\n        raise e.with_traceback(filtered_tb) from None\n    File \"/Users/jperrsau/opt/anaconda3/envs/distill-env/lib/python3.9/site-packages/keras/engine/input_spec.py\", line 264, in assert_input_compatibility\n        raise ValueError(f'Input {input_index} of layer \"{layer_name}\" is '\n\n    ValueError: Input 0 of layer \"sequential\" is incompatible with the layer: expected shape=(None, 5), found shape=(32, 1, 1, 5)\n",
     "output_type": "error",
     "traceback": [
      "\u001b[0;31m---------------------------------------------------------------------------\u001b[0m",
      "\u001b[0;31mValueError\u001b[0m                                Traceback (most recent call last)",
      "\u001b[1;32m/Users/jperrsau/cu-src/thesis/src/distill/10_17_2022_monitor_val_loss.ipynb Cell 8\u001b[0m in \u001b[0;36m<cell line: 1>\u001b[0;34m()\u001b[0m\n\u001b[0;32m----> <a href='vscode-notebook-cell:/Users/jperrsau/cu-src/thesis/src/distill/10_17_2022_monitor_val_loss.ipynb#X11sZmlsZQ%3D%3D?line=0'>1</a>\u001b[0m synthetic_outputs_pred \u001b[39m=\u001b[39m student_model\u001b[39m.\u001b[39;49mpredict(synthetic_inputs)\n\u001b[1;32m      <a href='vscode-notebook-cell:/Users/jperrsau/cu-src/thesis/src/distill/10_17_2022_monitor_val_loss.ipynb#X11sZmlsZQ%3D%3D?line=2'>3</a>\u001b[0m plt\u001b[39m.\u001b[39mscatter(synthetic_inputs[:,\u001b[39m0\u001b[39m], synthetic_inputs[:,\u001b[39m1\u001b[39m], c\u001b[39m=\u001b[39msynthetic_outputs_pred[:,\u001b[39m0\u001b[39m])\n\u001b[1;32m      <a href='vscode-notebook-cell:/Users/jperrsau/cu-src/thesis/src/distill/10_17_2022_monitor_val_loss.ipynb#X11sZmlsZQ%3D%3D?line=3'>4</a>\u001b[0m plt\u001b[39m.\u001b[39mtitle(\u001b[39m\"\u001b[39m\u001b[39mTeacher Model Output 0 projected on to Input 0 and Input 1\u001b[39m\u001b[39m\"\u001b[39m)\n",
      "File \u001b[0;32m~/opt/anaconda3/envs/distill-env/lib/python3.9/site-packages/keras/utils/traceback_utils.py:67\u001b[0m, in \u001b[0;36mfilter_traceback.<locals>.error_handler\u001b[0;34m(*args, **kwargs)\u001b[0m\n\u001b[1;32m     65\u001b[0m \u001b[39mexcept\u001b[39;00m \u001b[39mException\u001b[39;00m \u001b[39mas\u001b[39;00m e:  \u001b[39m# pylint: disable=broad-except\u001b[39;00m\n\u001b[1;32m     66\u001b[0m   filtered_tb \u001b[39m=\u001b[39m _process_traceback_frames(e\u001b[39m.\u001b[39m__traceback__)\n\u001b[0;32m---> 67\u001b[0m   \u001b[39mraise\u001b[39;00m e\u001b[39m.\u001b[39mwith_traceback(filtered_tb) \u001b[39mfrom\u001b[39;00m \u001b[39mNone\u001b[39m\n\u001b[1;32m     68\u001b[0m \u001b[39mfinally\u001b[39;00m:\n\u001b[1;32m     69\u001b[0m   \u001b[39mdel\u001b[39;00m filtered_tb\n",
      "File \u001b[0;32m/var/folders/3g/8436y4yj1r9367dvt15y6jqcdx0hcv/T/__autograph_generated_file96tns8v4.py:15\u001b[0m, in \u001b[0;36mouter_factory.<locals>.inner_factory.<locals>.tf__predict_function\u001b[0;34m(iterator)\u001b[0m\n\u001b[1;32m     13\u001b[0m \u001b[39mtry\u001b[39;00m:\n\u001b[1;32m     14\u001b[0m     do_return \u001b[39m=\u001b[39m \u001b[39mTrue\u001b[39;00m\n\u001b[0;32m---> 15\u001b[0m     retval_ \u001b[39m=\u001b[39m ag__\u001b[39m.\u001b[39mconverted_call(ag__\u001b[39m.\u001b[39mld(step_function), (ag__\u001b[39m.\u001b[39mld(\u001b[39mself\u001b[39m), ag__\u001b[39m.\u001b[39mld(iterator)), \u001b[39mNone\u001b[39;00m, fscope)\n\u001b[1;32m     16\u001b[0m \u001b[39mexcept\u001b[39;00m:\n\u001b[1;32m     17\u001b[0m     do_return \u001b[39m=\u001b[39m \u001b[39mFalse\u001b[39;00m\n",
      "\u001b[0;31mValueError\u001b[0m: in user code:\n\n    File \"/Users/jperrsau/opt/anaconda3/envs/distill-env/lib/python3.9/site-packages/keras/engine/training.py\", line 1845, in predict_function  *\n        return step_function(self, iterator)\n    File \"/Users/jperrsau/opt/anaconda3/envs/distill-env/lib/python3.9/site-packages/keras/engine/training.py\", line 1834, in step_function  **\n        outputs = model.distribute_strategy.run(run_step, args=(data,))\n    File \"/Users/jperrsau/opt/anaconda3/envs/distill-env/lib/python3.9/site-packages/keras/engine/training.py\", line 1823, in run_step  **\n        outputs = model.predict_step(data)\n    File \"/Users/jperrsau/opt/anaconda3/envs/distill-env/lib/python3.9/site-packages/keras/engine/training.py\", line 1791, in predict_step\n        return self(x, training=False)\n    File \"/Users/jperrsau/opt/anaconda3/envs/distill-env/lib/python3.9/site-packages/keras/utils/traceback_utils.py\", line 67, in error_handler\n        raise e.with_traceback(filtered_tb) from None\n    File \"/Users/jperrsau/opt/anaconda3/envs/distill-env/lib/python3.9/site-packages/keras/engine/input_spec.py\", line 264, in assert_input_compatibility\n        raise ValueError(f'Input {input_index} of layer \"{layer_name}\" is '\n\n    ValueError: Input 0 of layer \"sequential\" is incompatible with the layer: expected shape=(None, 5), found shape=(32, 1, 1, 5)\n"
     ]
    }
   ],
   "source": [
    "synthetic_outputs_pred = student_model.predict(synthetic_inputs)\n",
    "\n",
    "plt.scatter(synthetic_inputs[:,0], synthetic_inputs[:,1], c=synthetic_outputs_pred[:,0])\n",
    "plt.title(\"Teacher Model Output 0 projected on to Input 0 and Input 1\")\n",
    "plt.xlabel(\"Input 0\")\n",
    "plt.ylabel(\"Input 1\")\n",
    "plt.colorbar()\n",
    "plt.show()\n",
    "\n",
    "plt.scatter(synthetic_inputs[:,0], synthetic_inputs[:,1], c=synthetic_outputs[:,0])\n",
    "plt.title(\"Student Model Output 0 projected on to Input 0 and Input 1\")\n",
    "plt.xlabel(\"Input 0\")\n",
    "plt.ylabel(\"Input 1\")\n",
    "plt.colorbar()\n",
    "plt.show()\n",
    "\n",
    "plt.scatter(synthetic_inputs[:,0], synthetic_inputs[:,1], c=synthetic_outputs[:,0]-synthetic_outputs_pred[:,0],cmap=\"inferno_r\")\n",
    "plt.title(\"Delta\")\n",
    "plt.xlabel(\"Input 0\")\n",
    "plt.ylabel(\"Input 1\")\n",
    "plt.colorbar()\n",
    "plt.show()"
   ]
  },
  {
   "cell_type": "code",
   "execution_count": null,
   "metadata": {},
   "outputs": [],
   "source": []
  },
  {
   "cell_type": "code",
   "execution_count": 8,
   "metadata": {},
   "outputs": [
    {
     "data": {
      "text/plain": [
       "0.17402053"
      ]
     },
     "execution_count": 8,
     "metadata": {},
     "output_type": "execute_result"
    }
   ],
   "source": [
    "(synthetic_outputs - synthetic_outputs_pred)[:,0].max()"
   ]
  },
  {
   "cell_type": "code",
   "execution_count": 9,
   "metadata": {},
   "outputs": [
    {
     "data": {
      "text/plain": [
       "1.6487188"
      ]
     },
     "execution_count": 9,
     "metadata": {},
     "output_type": "execute_result"
    }
   ],
   "source": [
    "np.linalg.norm(synthetic_outputs, axis=1).mean()"
   ]
  },
  {
   "cell_type": "code",
   "execution_count": 10,
   "metadata": {},
   "outputs": [
    {
     "data": {
      "text/plain": [
       "0.6327621"
      ]
     },
     "execution_count": 10,
     "metadata": {},
     "output_type": "execute_result"
    }
   ],
   "source": [
    "np.linalg.norm((synthetic_outputs - synthetic_outputs_pred), axis=1).max()"
   ]
  },
  {
   "cell_type": "markdown",
   "metadata": {},
   "source": [
    "## Measure the Closeness of student and teacher networks"
   ]
  },
  {
   "cell_type": "code",
   "execution_count": 11,
   "metadata": {},
   "outputs": [
    {
     "data": {
      "text/plain": [
       "(<keras.engine.sequential.Sequential at 0x1404dcf70>,\n",
       " <onnx_tf.backend_rep.TensorflowRep at 0x14027cb50>)"
      ]
     },
     "execution_count": 11,
     "metadata": {},
     "output_type": "execute_result"
    }
   ],
   "source": [
    "student_model, acas_xu"
   ]
  },
  {
   "cell_type": "code",
   "execution_count": 12,
   "metadata": {},
   "outputs": [
    {
     "name": "stdout",
     "output_type": "stream",
     "text": [
      "63/63 [==============================] - 0s 1ms/step\n"
     ]
    }
   ],
   "source": [
    "synthetic_inputs = (rng.random((2000,1,1,5),dtype=\"float32\")-0.5)*2\n",
    "# synthetic_inputs = scipy.qmc.sobol()\n",
    "\n",
    "onnx_outputs = acas_xu.run(synthetic_inputs)\n",
    "synthetic_inputs = synthetic_inputs.reshape((2000,5))\n",
    "synthetic_outputs_teacher = onnx_outputs.linear_7_Add\n",
    "\n",
    "synthetic_outputs_student = student_model.predict(synthetic_inputs)"
   ]
  },
  {
   "cell_type": "code",
   "execution_count": 13,
   "metadata": {},
   "outputs": [
    {
     "data": {
      "text/plain": [
       "Text(0.5, 1.0, 'Error Distribution (MSE)')"
      ]
     },
     "execution_count": 13,
     "metadata": {},
     "output_type": "execute_result"
    },
    {
     "data": {
      "image/png": "[encoded data removed]",
      "text/plain": [
       "<Figure size 432x288 with 1 Axes>"
      ]
     },
     "metadata": {
      "needs_background": "light"
     },
     "output_type": "display_data"
    }
   ],
   "source": [
    "diff = np.sqrt(np.sum((synthetic_outputs_teacher - synthetic_outputs_student)**2, axis=1))\n",
    "#diff = np.max(np.abs(synthetic_outputs_teacher - synthetic_outputs_student), axis=1) #infinity norm\n",
    "\n",
    "plt.hist(diff, bins=100)\n",
    "\n",
    "plt.title(\"Error Distribution (MSE)\")\n",
    "\n",
    "## Probably gamma or beta distributed?"
   ]
  },
  {
   "cell_type": "code",
   "execution_count": 14,
   "metadata": {},
   "outputs": [
    {
     "data": {
      "text/plain": [
       "1.169281154870987"
      ]
     },
     "execution_count": 14,
     "metadata": {},
     "output_type": "execute_result"
    }
   ],
   "source": [
    "np.quantile(diff, 0.99)"
   ]
  },
  {
   "cell_type": "code",
   "execution_count": 15,
   "metadata": {},
   "outputs": [
    {
     "name": "stdout",
     "output_type": "stream",
     "text": [
      "63/63 [==============================] - 0s 1ms/step\n",
      "63/63 [==============================] - 0s 1ms/step\n",
      "63/63 [==============================] - 0s 942us/step\n",
      "63/63 [==============================] - 0s 1ms/step\n",
      "63/63 [==============================] - 0s 956us/step\n",
      "63/63 [==============================] - 0s 900us/step\n",
      "63/63 [==============================] - 0s 1ms/step\n",
      "63/63 [==============================] - 0s 1ms/step\n",
      "63/63 [==============================] - 0s 1ms/step\n",
      "63/63 [==============================] - 0s 973us/step\n",
      "63/63 [==============================] - 0s 1ms/step\n",
      "63/63 [==============================] - 0s 969us/step\n",
      "63/63 [==============================] - 0s 900us/step\n",
      "63/63 [==============================] - 0s 908us/step\n",
      "63/63 [==============================] - 0s 942us/step\n",
      "63/63 [==============================] - 0s 1ms/step\n",
      "63/63 [==============================] - 0s 1ms/step\n",
      "63/63 [==============================] - 0s 984us/step\n",
      "63/63 [==============================] - 0s 917us/step\n",
      "63/63 [==============================] - 0s 1ms/step\n",
      "63/63 [==============================] - 0s 976us/step\n",
      "63/63 [==============================] - 0s 962us/step\n",
      "63/63 [==============================] - 0s 1ms/step\n",
      "63/63 [==============================] - 0s 1ms/step\n",
      "63/63 [==============================] - 0s 1ms/step\n",
      "63/63 [==============================] - 0s 968us/step\n",
      "63/63 [==============================] - 0s 1ms/step\n",
      "63/63 [==============================] - 0s 1ms/step\n",
      "63/63 [==============================] - 0s 1ms/step\n",
      "63/63 [==============================] - 0s 1ms/step\n",
      "63/63 [==============================] - 0s 1ms/step\n",
      "63/63 [==============================] - 0s 1ms/step\n",
      "63/63 [==============================] - 0s 1ms/step\n",
      "63/63 [==============================] - 0s 1ms/step\n",
      "63/63 [==============================] - 0s 1ms/step\n",
      "63/63 [==============================] - 0s 1ms/step\n",
      "63/63 [==============================] - 0s 1ms/step\n",
      "63/63 [==============================] - 0s 1ms/step\n",
      "63/63 [==============================] - 0s 1ms/step\n",
      "63/63 [==============================] - 0s 1ms/step\n",
      "63/63 [==============================] - 0s 2ms/step\n",
      "63/63 [==============================] - 0s 2ms/step\n",
      "63/63 [==============================] - 0s 1ms/step\n",
      "63/63 [==============================] - 0s 1ms/step\n",
      "63/63 [==============================] - 0s 1ms/step\n",
      "63/63 [==============================] - 0s 1ms/step\n",
      "63/63 [==============================] - 0s 994us/step\n",
      "63/63 [==============================] - 0s 1ms/step\n",
      "63/63 [==============================] - 0s 1ms/step\n",
      "63/63 [==============================] - 0s 951us/step\n",
      "63/63 [==============================] - 0s 1ms/step\n",
      "63/63 [==============================] - 0s 1ms/step\n",
      "63/63 [==============================] - 0s 1ms/step\n",
      "63/63 [==============================] - 0s 983us/step\n",
      "63/63 [==============================] - 0s 1ms/step\n",
      "63/63 [==============================] - 0s 1ms/step\n",
      "63/63 [==============================] - 0s 976us/step\n",
      "63/63 [==============================] - 0s 2ms/step\n",
      "63/63 [==============================] - 0s 1ms/step\n",
      "63/63 [==============================] - 0s 1ms/step\n",
      "63/63 [==============================] - 0s 1ms/step\n",
      "63/63 [==============================] - 0s 1ms/step\n",
      "63/63 [==============================] - 0s 1ms/step\n",
      "63/63 [==============================] - 0s 1ms/step\n",
      "63/63 [==============================] - 0s 1ms/step\n",
      "63/63 [==============================] - 0s 2ms/step\n",
      "63/63 [==============================] - 0s 1ms/step\n",
      "63/63 [==============================] - 0s 1ms/step\n",
      "63/63 [==============================] - 0s 2ms/step\n",
      "63/63 [==============================] - 0s 2ms/step\n",
      "63/63 [==============================] - 0s 2ms/step\n",
      "63/63 [==============================] - 0s 1ms/step\n",
      "63/63 [==============================] - 0s 1ms/step\n",
      "63/63 [==============================] - 0s 1ms/step\n",
      "63/63 [==============================] - 0s 1ms/step\n",
      "63/63 [==============================] - 0s 1ms/step\n",
      "63/63 [==============================] - 0s 1ms/step\n",
      "63/63 [==============================] - 0s 1ms/step\n",
      "63/63 [==============================] - 0s 2ms/step\n",
      "63/63 [==============================] - 0s 2ms/step\n",
      "63/63 [==============================] - 0s 1ms/step\n",
      "63/63 [==============================] - 0s 1ms/step\n",
      "63/63 [==============================] - 0s 1ms/step\n",
      "63/63 [==============================] - 0s 2ms/step\n",
      "63/63 [==============================] - 0s 2ms/step\n",
      "63/63 [==============================] - 0s 2ms/step\n",
      "63/63 [==============================] - 0s 2ms/step\n",
      "63/63 [==============================] - 0s 1ms/step\n",
      "63/63 [==============================] - 0s 1ms/step\n",
      "63/63 [==============================] - 0s 2ms/step\n",
      "63/63 [==============================] - 0s 1ms/step\n",
      "63/63 [==============================] - 0s 1ms/step\n",
      "63/63 [==============================] - 0s 1ms/step\n",
      "63/63 [==============================] - 0s 1ms/step\n",
      "63/63 [==============================] - 0s 2ms/step\n",
      "63/63 [==============================] - 0s 2ms/step\n",
      "63/63 [==============================] - 0s 2ms/step\n",
      "63/63 [==============================] - 0s 2ms/step\n",
      "63/63 [==============================] - 0s 2ms/step\n",
      "63/63 [==============================] - 0s 2ms/step\n"
     ]
    }
   ],
   "source": [
    "p99 = []\n",
    "points_per_iteration = 2000\n",
    "\n",
    "for mc_iteration in range(100):\n",
    "\n",
    "    synthetic_inputs = (rng.random((points_per_iteration,1,1,5),dtype=\"float32\")-0.5)*2\n",
    "\n",
    "    onnx_outputs = acas_xu.run(synthetic_inputs)\n",
    "    synthetic_inputs = synthetic_inputs.reshape((points_per_iteration,5))\n",
    "    synthetic_outputs_teacher = onnx_outputs.linear_7_Add\n",
    "    synthetic_outputs_student = student_model.predict(synthetic_inputs)\n",
    "\n",
    "    diff = np.sqrt(np.sum((synthetic_outputs_teacher - synthetic_outputs_student)**2, axis=1))\n",
    "    p99.append(np.quantile(diff, 0.99))\n"
   ]
  },
  {
   "cell_type": "code",
   "execution_count": 16,
   "metadata": {},
   "outputs": [
    {
     "data": {
      "image/png": "[encoded data removed]",
      "text/plain": [
       "<Figure size 432x288 with 1 Axes>"
      ]
     },
     "metadata": {
      "needs_background": "light"
     },
     "output_type": "display_data"
    }
   ],
   "source": [
    "plt.hist(p99, bins=10)\n",
    "plt.show()"
   ]
  },
  {
   "cell_type": "code",
   "execution_count": 17,
   "metadata": {},
   "outputs": [
    {
     "data": {
      "text/plain": [
       "(1.2671367528915405, 0.08229062140355549)"
      ]
     },
     "execution_count": 17,
     "metadata": {},
     "output_type": "execute_result"
    }
   ],
   "source": [
    "np.mean(p99), np.std(p99)"
   ]
  },
  {
   "cell_type": "code",
   "execution_count": 18,
   "metadata": {},
   "outputs": [
    {
     "data": {
      "text/plain": [
       "0.21230980322117315"
      ]
     },
     "execution_count": 18,
     "metadata": {},
     "output_type": "execute_result"
    }
   ],
   "source": [
    "np.std(p99) * 2.58"
   ]
  },
  {
   "cell_type": "code",
   "execution_count": null,
   "metadata": {},
   "outputs": [],
   "source": []
  },
  {
   "cell_type": "markdown",
   "metadata": {},
   "source": [
    "## Verify student and teacher networks\n",
    "\n",
    "Use the 10 properties provided in VNNComp to check if the student network satisfies the safety properties. Produce the following:\n",
    "\n",
    "- Timing information\n",
    "- Counterexamples\n",
    "- Failiure modes of nnenum\n",
    "- List of verified networks"
   ]
  },
  {
   "cell_type": "markdown",
   "metadata": {},
   "source": [
    "## NNenum"
   ]
  },
  {
   "cell_type": "code",
   "execution_count": 19,
   "metadata": {},
   "outputs": [
    {
     "name": "stdout",
     "output_type": "stream",
     "text": [
      "INFO:tensorflow:Assets written to: ./distill_qmc_closeness_acas_student_model/assets\n"
     ]
    }
   ],
   "source": [
    "tf.saved_model.save(student_model, \"./distill_qmc_closeness_acas_student_model\")"
   ]
  },
  {
   "cell_type": "code",
   "execution_count": 20,
   "metadata": {
    "vscode": {
     "languageId": "shellscript"
    }
   },
   "outputs": [
    {
     "name": "stdout",
     "output_type": "stream",
     "text": [
      "/Users/jperrsau/opt/anaconda3/envs/distill-env/lib/python3.9/runpy.py:127: RuntimeWarning: 'tf2onnx.convert' found in sys.modules after import of package 'tf2onnx', but prior to execution of 'tf2onnx.convert'; this may result in unpredictable behaviour\n",
      "  warn(RuntimeWarning(msg))\n",
      "2022-10-05 10:05:58,696 - WARNING - '--tag' not specified for saved_model. Using --tag serve\n",
      "2022-10-05 10:05:59,022 - INFO - Signatures found in model: [serving_default].\n",
      "2022-10-05 10:05:59,022 - WARNING - '--signature_def' not specified, using first signature: serving_default\n",
      "2022-10-05 10:05:59,023 - INFO - Output names: ['dense_4']\n",
      "WARNING:tensorflow:From /Users/jperrsau/opt/anaconda3/envs/distill-env/lib/python3.9/site-packages/tf2onnx/tf_loader.py:711: extract_sub_graph (from tensorflow.python.framework.graph_util_impl) is deprecated and will be removed in a future version.\n",
      "Instructions for updating:\n",
      "Use `tf.compat.v1.graph_util.extract_sub_graph`\n",
      "2022-10-05 10:05:59,087 - WARNING - From /Users/jperrsau/opt/anaconda3/envs/distill-env/lib/python3.9/site-packages/tf2onnx/tf_loader.py:711: extract_sub_graph (from tensorflow.python.framework.graph_util_impl) is deprecated and will be removed in a future version.\n",
      "Instructions for updating:\n",
      "Use `tf.compat.v1.graph_util.extract_sub_graph`\n",
      "2022-10-05 10:05:59,109 - INFO - Using tensorflow=2.9.1, onnx=1.12.0, tf2onnx=1.11.1/1915fb\n",
      "2022-10-05 10:05:59,110 - INFO - Using opset <onnx, 11>\n",
      "2022-10-05 10:05:59,150 - INFO - Computed 0 values for constant folding\n",
      "2022-10-05 10:05:59,187 - INFO - Optimizing ONNX model\n",
      "2022-10-05 10:05:59,259 - INFO - After optimization: Identity -5 (5->0)\n",
      "2022-10-05 10:05:59,261 - INFO - \n",
      "2022-10-05 10:05:59,261 - INFO - Successfully converted TensorFlow model ./distill_qmc_closeness_acas_student_model/ to ONNX\n",
      "2022-10-05 10:05:59,261 - INFO - Model inputs: ['dense_input']\n",
      "2022-10-05 10:05:59,261 - INFO - Model outputs: ['dense_4']\n",
      "2022-10-05 10:05:59,261 - INFO - ONNX model is saved at distill_qmc_closeness_acas_student_model.onnx\n"
     ]
    }
   ],
   "source": [
    "!python -m tf2onnx.convert --saved-model ./distill_qmc_closeness_acas_student_model/ --output distill_qmc_closeness_acas_student_model.onnx --opset 11"
   ]
  },
  {
   "cell_type": "code",
   "execution_count": 22,
   "metadata": {
    "vscode": {
     "languageId": "shellscript"
    }
   },
   "outputs": [
    {
     "name": "stdout",
     "output_type": "stream",
     "text": [
      "all input names: ['dense_input', 'StatefulPartitionedCall/sequential/dense/MatMul/ReadVariableOp:0', 'StatefulPartitionedCall/sequential/dense/MatMul:0', 'StatefulPartitionedCall/sequential/dense/BiasAdd/ReadVariableOp:0', 'StatefulPartitionedCall/sequential/dense/BiasAdd:0', 'StatefulPartitionedCall/sequential/dense/Relu:0', 'StatefulPartitionedCall/sequential/dense_1/MatMul/ReadVariableOp:0', 'StatefulPartitionedCall/sequential/dense_1/MatMul:0', 'StatefulPartitionedCall/sequential/dense_1/BiasAdd/ReadVariableOp:0', 'StatefulPartitionedCall/sequential/dense_1/BiasAdd:0', 'StatefulPartitionedCall/sequential/dense_1/Relu:0', 'StatefulPartitionedCall/sequential/dense_2/MatMul/ReadVariableOp:0', 'StatefulPartitionedCall/sequential/dense_2/MatMul:0', 'StatefulPartitionedCall/sequential/dense_2/BiasAdd/ReadVariableOp:0', 'StatefulPartitionedCall/sequential/dense_2/BiasAdd:0', 'StatefulPartitionedCall/sequential/dense_2/Relu:0', 'StatefulPartitionedCall/sequential/dense_3/MatMul/ReadVariableOp:0', 'StatefulPartitionedCall/sequential/dense_3/MatMul:0', 'StatefulPartitionedCall/sequential/dense_3/BiasAdd/ReadVariableOp:0', 'StatefulPartitionedCall/sequential/dense_3/BiasAdd:0', 'StatefulPartitionedCall/sequential/dense_3/Relu:0', 'StatefulPartitionedCall/sequential/dense_4/MatMul/ReadVariableOp:0', 'StatefulPartitionedCall/sequential/dense_4/MatMul:0', 'StatefulPartitionedCall/sequential/dense_4/BiasAdd/ReadVariableOp:0']\n",
      "Running in parallel with 6 processes\n",
      "(0.1 sec) Q: 0, Sets: 0/1  (0.0%) ETA: - (expected 1 stars)   \n",
      "(0.2 sec) Q: 1, Sets: 8/11  (62.5%) ETA: 0.1 sec (expected 13 stars)   \n",
      "\n",
      "\n",
      "\n",
      "Total Stars: 17 (0 exact, 17 approx)\n",
      "Runtime: 0.3 sec\n",
      "Completed work frac: 1.0\n",
      "Num Stars Copied Between Processes: 5\n",
      "Num Lps During Enumeration: 0\n",
      "Total Num Lps: 0\n",
      "\n",
      "Result: network is SAFE\n"
     ]
    }
   ],
   "source": [
    "!docker run -it -v $(PWD):/my_work nnenum_image python3 -m nnenum.nnenum /my_work/distill_qmc_closeness_acas_student_model.onnx /my_work/data/acasxu/prop_1.vnnlib"
   ]
  },
  {
   "cell_type": "code",
   "execution_count": 23,
   "metadata": {
    "vscode": {
     "languageId": "shellscript"
    }
   },
   "outputs": [
    {
     "name": "stdout",
     "output_type": "stream",
     "text": [
      "all input names: ['input', 'input_AvgImg', 'input_Sub', 'Operation_1_Flatten', 'Operation_1_MatMul_W', 'Operation_1_MatMul', 'Operation_1_Add_B', 'Operation_1_Add', 'relu_1', 'Operation_2_MatMul_W', 'Operation_2_MatMul', 'Operation_2_Add_B', 'Operation_2_Add', 'relu_2', 'Operation_3_MatMul_W', 'Operation_3_MatMul', 'Operation_3_Add_B', 'Operation_3_Add', 'relu_3', 'Operation_4_MatMul_W', 'Operation_4_MatMul', 'Operation_4_Add_B', 'Operation_4_Add', 'relu_4', 'Operation_5_MatMul_W', 'Operation_5_MatMul', 'Operation_5_Add_B', 'Operation_5_Add', 'relu_5', 'Operation_6_MatMul_W', 'Operation_6_MatMul', 'Operation_6_Add_B', 'Operation_6_Add', 'relu_6', 'linear_7_MatMul_W', 'linear_7_MatMul', 'linear_7_Add_B']\n",
      "Running in parallel with 6 processes\n",
      "(0.1 sec) Q: 0, Sets: 0/1  (0.0%) ETA: - (expected 1 stars)   \n",
      "(0.2 sec) Q: 0, Sets: 0/5  (0.0%) ETA: - (expected 1 stars)   \n",
      "(0.4 sec) Q: 8, Sets: 47/77  (22.377%) ETA: 1.2 sec (expected 210 stars)   \n",
      "(0.8 sec) Q: 0, Sets: 283/287  (95.898%) ETA: 0.0 sec (expected 295 stars)   \n",
      "\n",
      "\n",
      "\n",
      "Total Stars: 298 (5 exact, 293 approx)\n",
      "Runtime: 0.8 sec\n",
      "Completed work frac: 1.0\n",
      "Num Stars Copied Between Processes: 36\n",
      "Num Lps During Enumeration: 96\n",
      "Total Num Lps: 96\n",
      "\n",
      "Result: network is SAFE\n"
     ]
    }
   ],
   "source": [
    "!docker run -it -v $(PWD):/my_work nnenum_image python3 -m nnenum.nnenum /my_work/data/acasxu/ACASXU_run2a_1_1_batch_2000.onnx /my_work/data/acasxu/prop_1.vnnlib"
   ]
  },
  {
   "cell_type": "markdown",
   "metadata": {},
   "source": [
    "## All 10 properties with timing"
   ]
  },
  {
   "cell_type": "code",
   "execution_count": 24,
   "metadata": {},
   "outputs": [],
   "source": [
    "import subprocess\n",
    "import re"
   ]
  },
  {
   "cell_type": "code",
   "execution_count": 25,
   "metadata": {},
   "outputs": [
    {
     "name": "stdout",
     "output_type": "stream",
     "text": [
      "Property 1\n",
      "\tStudent:\tTime=0.3\tOutput=network is SAFE\n",
      "\tTeacher:\tTime=0.6\tOutput=network is SAFE\n",
      "Property 2\n",
      "\tStudent:\tTime=1.1\tOutput=network is SAFE\n",
      "\tTeacher:\tTime=1.3\tOutput=network is SAFE\n",
      "Property 3\n",
      "\tStudent:\tTime=0.1\tOutput=network is SAFE\n",
      "\tTeacher:\tTime=2.3\tOutput=network is SAFE\n",
      "Property 4\n",
      "\tStudent:\tTime=0.4\tOutput=network is SAFE\n",
      "\tTeacher:\tTime=1.2\tOutput=network is SAFE\n",
      "Property 5\n",
      "\tStudent:\tTime=0.4\tOutput=network is SAFE\n",
      "\tTeacher:\tTime=4.2\tOutput=network is SAFE\n",
      "Property 6\n",
      "\tStudent:\tTime=0.1\tOutput=network is UNSAFE with confirmed counterexample in result\n",
      "\tTeacher:\tTime=9.4\tOutput=network is SAFE\n",
      "Running in parallel with \n",
      "Property 7\n",
      "\tStudent:\tTime=0.1\tOutput=network is UNSAFE with confirmed counterexample in result\n",
      "\tTeacher:\tTime=0.1\tOutput=network is UNSAFE with confirmed counterexample in result\n",
      "Property 8\n",
      "\tStudent:\tTime=0.1\tOutput=network is UNSAFE with confirmed counterexample in result\n",
      "\tTeacher:\tTime=0.1\tOutput=network is UNSAFE with confirmed counterexample in result\n",
      "Property 9\n",
      "\tStudent:\tTime=0.1\tOutput=network is UNSAFE with confirmed counterexample in result\n",
      "\tTeacher:\tTime=7.7\tOutput=network is UNSAFE with confirmed counterexample in result\n",
      "Property 10\n",
      "\tStudent:\tTime=0.1\tOutput=network is UNSAFE with confirmed counterexample in result\n",
      "\tTeacher:\tTime=0.3\tOutput=network is SAFE\n"
     ]
    }
   ],
   "source": [
    "for prop in range(1,10+1):\n",
    "    print(f\"Property {prop}\")\n",
    "\n",
    "    cmd = f\"docker run -v $(PWD):/my_work nnenum_image python3 -m nnenum.nnenum /my_work/distill_qmc_closeness_acas_student_model.onnx /my_work/data/acasxu/prop_{prop}.vnnlib\"\n",
    "    result = subprocess.getoutput(cmd)\n",
    "    runtime_re = re.search(\"Runtime: (\\d+\\.\\d+)\", result).groups(0)[0]\n",
    "    result_re = re.search(\"Result: ([a-zA-Z\\s]+)\", result).groups(0)[0]\n",
    "    print(f\"\\tStudent:\\tTime={runtime_re}\\tOutput={result_re}\")\n",
    "\n",
    "    cmd = f\"docker run -v $(PWD):/my_work nnenum_image python3 -m nnenum.nnenum /my_work/data/acasxu/ACASXU_run2a_1_1_batch_2000.onnx /my_work/data/acasxu/prop_{prop}.vnnlib\"\n",
    "    result = subprocess.getoutput(cmd)\n",
    "    runtime_re = re.search(\"Runtime: (\\d+\\.\\d+)\", result).groups(0)[0]\n",
    "    result_re = re.search(\"Result: ([a-zA-Z\\s]+)\", result).groups(0)[0]\n",
    "    print(f\"\\tTeacher:\\tTime={runtime_re}\\tOutput={result_re}\")\n",
    "\n",
    "\n",
    "    "
   ]
  },
  {
   "cell_type": "markdown",
   "metadata": {},
   "source": [
    "### What do the counterexamples look like?"
   ]
  },
  {
   "cell_type": "code",
   "execution_count": 26,
   "metadata": {},
   "outputs": [
    {
     "name": "stdout",
     "output_type": "stream",
     "text": [
      "Property 4\n",
      "all input names: ['dense_input', 'StatefulPartitionedCall/sequential/dense/MatMul/ReadVariableOp:0', 'StatefulPartitionedCall/sequential/dense/MatMul:0', 'StatefulPartitionedCall/sequential/dense/BiasAdd/ReadVariableOp:0', 'StatefulPartitionedCall/sequential/dense/BiasAdd:0', 'StatefulPartitionedCall/sequential/dense/Relu:0', 'StatefulPartitionedCall/sequential/dense_1/MatMul/ReadVariableOp:0', 'StatefulPartitionedCall/sequential/dense_1/MatMul:0', 'StatefulPartitionedCall/sequential/dense_1/BiasAdd/ReadVariableOp:0', 'StatefulPartitionedCall/sequential/dense_1/BiasAdd:0', 'StatefulPartitionedCall/sequential/dense_1/Relu:0', 'StatefulPartitionedCall/sequential/dense_2/MatMul/ReadVariableOp:0', 'StatefulPartitionedCall/sequential/dense_2/MatMul:0', 'StatefulPartitionedCall/sequential/dense_2/BiasAdd/ReadVariableOp:0', 'StatefulPartitionedCall/sequential/dense_2/BiasAdd:0', 'StatefulPartitionedCall/sequential/dense_2/Relu:0', 'StatefulPartitionedCall/sequential/dense_3/MatMul/ReadVariableOp:0', 'StatefulPartitionedCall/sequential/dense_3/MatMul:0', 'StatefulPartitionedCall/sequential/dense_3/BiasAdd/ReadVariableOp:0', 'StatefulPartitionedCall/sequential/dense_3/BiasAdd:0', 'StatefulPartitionedCall/sequential/dense_3/Relu:0', 'StatefulPartitionedCall/sequential/dense_4/MatMul/ReadVariableOp:0', 'StatefulPartitionedCall/sequential/dense_4/MatMul:0', 'StatefulPartitionedCall/sequential/dense_4/BiasAdd/ReadVariableOp:0']\n",
      "Running in parallel with 6 processes\n",
      "(0.0 sec) Q: 0, Sets: 0/1  (0.0%) ETA: - (expected 1 stars)   \n",
      "(0.2 sec) Q: 0, Sets: 1/5  (6.25%) ETA: 2.3 sec (expected 16 stars)   \n",
      "(0.3 sec) Q: 0, Sets: 12/21  (56.25%) ETA: 0.2 sec (expected 21 stars)   \n",
      "\n",
      "\n",
      "Total Stars: 25 (0 exact, 25 approx)\n",
      "Runtime: 0.4 sec\n",
      "Completed work frac: 1.0\n",
      "Num Stars Copied Between Processes: 13\n",
      "Num Lps During Enumeration: 0\n",
      "Total Num Lps: 0\n",
      "\n",
      "Result: network is SAFE\n"
     ]
    }
   ],
   "source": [
    "prop = 4\n",
    "\n",
    "print(f\"Property {prop}\")\n",
    "cmd = f\"docker run -v $(PWD):/my_work nnenum_image python3 -m nnenum.nnenum /my_work/distill_qmc_closeness_acas_student_model.onnx /my_work/data/acasxu/prop_{prop}.vnnlib\"\n",
    "result = subprocess.getoutput(cmd)\n",
    "print(result)\n",
    "\n",
    "\n",
    "\n",
    "    "
   ]
  },
  {
   "cell_type": "code",
   "execution_count": null,
   "metadata": {},
   "outputs": [],
   "source": []
  }
 ],
 "metadata": {
  "kernelspec": {
   "display_name": "Python 3.9.13 ('distill-env')",
   "language": "python",
   "name": "python3"
  },
  "language_info": {
   "codemirror_mode": {
    "name": "ipython",
    "version": 3
   },
   "file_extension": ".py",
   "mimetype": "text/x-python",
   "name": "python",
   "nbconvert_exporter": "python",
   "pygments_lexer": "ipython3",
   "version": "3.9.13"
  },
  "orig_nbformat": 4,
  "vscode": {
   "interpreter": {
    "hash": "524150bdde5c6caad142be3d47661914d0eeff227b07b1b49eb623a6ebf1f1a3"
   }
  }
 },
 "nbformat": 4,
 "nbformat_minor": 2
}
