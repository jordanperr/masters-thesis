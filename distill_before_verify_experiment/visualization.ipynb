{
 "cells": [
  {
   "cell_type": "markdown",
   "metadata": {},
   "source": [
    "# Data Viz for Distill Before Veirfy Experiment"
   ]
  },
  {
   "cell_type": "code",
   "execution_count": 2,
   "metadata": {},
   "outputs": [],
   "source": [
    "import matplotlib.pyplot as plt\n",
    "import pandas as pd\n",
    "from functools import reduce\n",
    "import seaborn as sns"
   ]
  },
  {
   "cell_type": "markdown",
   "metadata": {},
   "source": [
    "## depth experiment"
   ]
  },
  {
   "cell_type": "code",
   "execution_count": 30,
   "metadata": {},
   "outputs": [],
   "source": [
    "experiment = \"exp_depth_10_16_2022\"\n",
    "results = pd.read_csv(f\"./{experiment}/results.csv\")\n",
    "results_teacher = pd.read_csv(f\"./{experiment}/results.teacher.csv\")"
   ]
  },
  {
   "cell_type": "code",
   "execution_count": 31,
   "metadata": {},
   "outputs": [
    {
     "name": "stderr",
     "output_type": "stream",
     "text": [
      "/var/folders/3g/8436y4yj1r9367dvt15y6jqcdx0hcv/T/ipykernel_83739/693487289.py:1: FutureWarning: Dropping of nuisance columns in DataFrame reductions (with 'numeric_only=None') is deprecated; in a future version this will raise TypeError.  Select only valid columns before calling the reduction.\n",
      "  results_teacher.mean()\n"
     ]
    },
    {
     "data": {
      "text/plain": [
       "prop.1.python_time          5.625593\n",
       "prop.1.reported_runtime     3.036667\n",
       "prop.2.python_time         13.764449\n",
       "prop.2.reported_runtime    11.636667\n",
       "prop.3.python_time         32.831075\n",
       "prop.3.reported_runtime    30.743333\n",
       "prop.4.python_time         10.491317\n",
       "prop.4.reported_runtime    11.225000\n",
       "dtype: float64"
      ]
     },
     "execution_count": 31,
     "metadata": {},
     "output_type": "execute_result"
    }
   ],
   "source": [
    "results_teacher.mean()"
   ]
  },
  {
   "cell_type": "code",
   "execution_count": 23,
   "metadata": {},
   "outputs": [
    {
     "data": {
      "text/html": [
       "<div>\n",
       "<style scoped>\n",
       "    .dataframe tbody tr th:only-of-type {\n",
       "        vertical-align: middle;\n",
       "    }\n",
       "\n",
       "    .dataframe tbody tr th {\n",
       "        vertical-align: top;\n",
       "    }\n",
       "\n",
       "    .dataframe thead th {\n",
       "        text-align: right;\n",
       "    }\n",
       "</style>\n",
       "<table border=\"1\" class=\"dataframe\">\n",
       "  <thead>\n",
       "    <tr style=\"text-align: right;\">\n",
       "      <th></th>\n",
       "      <th>num_hidden_layers</th>\n",
       "      <th>hidden_layer_width</th>\n",
       "      <th>repetition</th>\n",
       "      <th>n_synthetic_data_points</th>\n",
       "      <th>synthetic_data_sampling</th>\n",
       "      <th>tau</th>\n",
       "      <th>a_prev</th>\n",
       "      <th>uuid</th>\n",
       "      <th>loss</th>\n",
       "      <th>mean_squared_error</th>\n",
       "      <th>...</th>\n",
       "      <th>prop.2.reported_runtime</th>\n",
       "      <th>prop.2.stdout_result</th>\n",
       "      <th>prop.3.result</th>\n",
       "      <th>prop.3.python_time</th>\n",
       "      <th>prop.3.reported_runtime</th>\n",
       "      <th>prop.3.stdout_result</th>\n",
       "      <th>prop.4.result</th>\n",
       "      <th>prop.4.python_time</th>\n",
       "      <th>prop.4.reported_runtime</th>\n",
       "      <th>prop.4.stdout_result</th>\n",
       "    </tr>\n",
       "  </thead>\n",
       "  <tbody>\n",
       "    <tr>\n",
       "      <th>0</th>\n",
       "      <td>2</td>\n",
       "      <td>50</td>\n",
       "      <td>1</td>\n",
       "      <td>4096</td>\n",
       "      <td>random_iid</td>\n",
       "      <td>1</td>\n",
       "      <td>1</td>\n",
       "      <td>07399d08-0c10-4fc2-9755-317073445a92</td>\n",
       "      <td>0.013050</td>\n",
       "      <td>0.013050</td>\n",
       "      <td>...</td>\n",
       "      <td>0.7</td>\n",
       "      <td>network is SAFE</td>\n",
       "      <td>holds</td>\n",
       "      <td>2.014103</td>\n",
       "      <td>-1.0</td>\n",
       "      <td>Safe</td>\n",
       "      <td>violated</td>\n",
       "      <td>2.081646</td>\n",
       "      <td>0.1</td>\n",
       "      <td>network is UNSAFE with confirmed counterexampl...</td>\n",
       "    </tr>\n",
       "    <tr>\n",
       "      <th>1</th>\n",
       "      <td>2</td>\n",
       "      <td>50</td>\n",
       "      <td>2</td>\n",
       "      <td>4096</td>\n",
       "      <td>random_iid</td>\n",
       "      <td>1</td>\n",
       "      <td>1</td>\n",
       "      <td>38764d7a-6da1-4b73-b9ce-553f1e3903f1</td>\n",
       "      <td>0.012713</td>\n",
       "      <td>0.012713</td>\n",
       "      <td>...</td>\n",
       "      <td>0.1</td>\n",
       "      <td>network is UNSAFE with confirmed counterexampl...</td>\n",
       "      <td>holds</td>\n",
       "      <td>2.121153</td>\n",
       "      <td>0.1</td>\n",
       "      <td>network is SAFE</td>\n",
       "      <td>violated</td>\n",
       "      <td>2.282663</td>\n",
       "      <td>0.2</td>\n",
       "      <td>network is UNSAFE with confirmed counterexampl...</td>\n",
       "    </tr>\n",
       "    <tr>\n",
       "      <th>2</th>\n",
       "      <td>2</td>\n",
       "      <td>50</td>\n",
       "      <td>3</td>\n",
       "      <td>4096</td>\n",
       "      <td>random_iid</td>\n",
       "      <td>1</td>\n",
       "      <td>1</td>\n",
       "      <td>474bc2a9-d431-460f-81df-512145f79848</td>\n",
       "      <td>0.013584</td>\n",
       "      <td>0.013584</td>\n",
       "      <td>...</td>\n",
       "      <td>0.4</td>\n",
       "      <td>network is SAFE</td>\n",
       "      <td>holds</td>\n",
       "      <td>2.068942</td>\n",
       "      <td>-1.0</td>\n",
       "      <td>Safe</td>\n",
       "      <td>holds</td>\n",
       "      <td>2.090867</td>\n",
       "      <td>-1.0</td>\n",
       "      <td>Safe</td>\n",
       "    </tr>\n",
       "    <tr>\n",
       "      <th>3</th>\n",
       "      <td>2</td>\n",
       "      <td>50</td>\n",
       "      <td>4</td>\n",
       "      <td>4096</td>\n",
       "      <td>random_iid</td>\n",
       "      <td>1</td>\n",
       "      <td>1</td>\n",
       "      <td>696c8570-8286-406e-ad32-c3982d89b595</td>\n",
       "      <td>0.014124</td>\n",
       "      <td>0.014124</td>\n",
       "      <td>...</td>\n",
       "      <td>0.3</td>\n",
       "      <td>network is SAFE</td>\n",
       "      <td>holds</td>\n",
       "      <td>2.280330</td>\n",
       "      <td>0.1</td>\n",
       "      <td>network is SAFE</td>\n",
       "      <td>holds</td>\n",
       "      <td>1.961015</td>\n",
       "      <td>-1.0</td>\n",
       "      <td>Safe</td>\n",
       "    </tr>\n",
       "    <tr>\n",
       "      <th>4</th>\n",
       "      <td>2</td>\n",
       "      <td>50</td>\n",
       "      <td>5</td>\n",
       "      <td>4096</td>\n",
       "      <td>random_iid</td>\n",
       "      <td>1</td>\n",
       "      <td>1</td>\n",
       "      <td>b1a914e2-445b-4926-8952-87b2e654549a</td>\n",
       "      <td>0.015040</td>\n",
       "      <td>0.015040</td>\n",
       "      <td>...</td>\n",
       "      <td>0.2</td>\n",
       "      <td>network is UNSAFE with confirmed counterexampl...</td>\n",
       "      <td>violated</td>\n",
       "      <td>2.206567</td>\n",
       "      <td>0.1</td>\n",
       "      <td>network is UNSAFE with confirmed counterexampl...</td>\n",
       "      <td>holds</td>\n",
       "      <td>1.903472</td>\n",
       "      <td>-1.0</td>\n",
       "      <td>Safe</td>\n",
       "    </tr>\n",
       "    <tr>\n",
       "      <th>...</th>\n",
       "      <td>...</td>\n",
       "      <td>...</td>\n",
       "      <td>...</td>\n",
       "      <td>...</td>\n",
       "      <td>...</td>\n",
       "      <td>...</td>\n",
       "      <td>...</td>\n",
       "      <td>...</td>\n",
       "      <td>...</td>\n",
       "      <td>...</td>\n",
       "      <td>...</td>\n",
       "      <td>...</td>\n",
       "      <td>...</td>\n",
       "      <td>...</td>\n",
       "      <td>...</td>\n",
       "      <td>...</td>\n",
       "      <td>...</td>\n",
       "      <td>...</td>\n",
       "      <td>...</td>\n",
       "      <td>...</td>\n",
       "      <td>...</td>\n",
       "    </tr>\n",
       "    <tr>\n",
       "      <th>205</th>\n",
       "      <td>8</td>\n",
       "      <td>50</td>\n",
       "      <td>26</td>\n",
       "      <td>4096</td>\n",
       "      <td>random_iid</td>\n",
       "      <td>1</td>\n",
       "      <td>1</td>\n",
       "      <td>dd1e9c74-fbf5-4d6a-9323-eb57aee1077c</td>\n",
       "      <td>0.006777</td>\n",
       "      <td>0.006777</td>\n",
       "      <td>...</td>\n",
       "      <td>0.4</td>\n",
       "      <td>network is UNSAFE with confirmed counterexampl...</td>\n",
       "      <td>violated</td>\n",
       "      <td>2.096440</td>\n",
       "      <td>0.2</td>\n",
       "      <td>network is UNSAFE with confirmed counterexampl...</td>\n",
       "      <td>holds</td>\n",
       "      <td>2.241677</td>\n",
       "      <td>0.3</td>\n",
       "      <td>network is SAFE</td>\n",
       "    </tr>\n",
       "    <tr>\n",
       "      <th>206</th>\n",
       "      <td>8</td>\n",
       "      <td>50</td>\n",
       "      <td>27</td>\n",
       "      <td>4096</td>\n",
       "      <td>random_iid</td>\n",
       "      <td>1</td>\n",
       "      <td>1</td>\n",
       "      <td>d8a58de4-5315-4123-85fb-70d0b88227a9</td>\n",
       "      <td>0.003753</td>\n",
       "      <td>0.003753</td>\n",
       "      <td>...</td>\n",
       "      <td>1.1</td>\n",
       "      <td>network is SAFE</td>\n",
       "      <td>holds</td>\n",
       "      <td>1.922315</td>\n",
       "      <td>-1.0</td>\n",
       "      <td>Safe</td>\n",
       "      <td>holds</td>\n",
       "      <td>1.959077</td>\n",
       "      <td>-1.0</td>\n",
       "      <td>Safe</td>\n",
       "    </tr>\n",
       "    <tr>\n",
       "      <th>207</th>\n",
       "      <td>8</td>\n",
       "      <td>50</td>\n",
       "      <td>28</td>\n",
       "      <td>4096</td>\n",
       "      <td>random_iid</td>\n",
       "      <td>1</td>\n",
       "      <td>1</td>\n",
       "      <td>873480a4-234e-41a1-9182-4b80e84c5fbc</td>\n",
       "      <td>0.007547</td>\n",
       "      <td>0.007547</td>\n",
       "      <td>...</td>\n",
       "      <td>0.3</td>\n",
       "      <td>network is UNSAFE with confirmed counterexampl...</td>\n",
       "      <td>holds</td>\n",
       "      <td>2.082904</td>\n",
       "      <td>0.3</td>\n",
       "      <td>network is SAFE</td>\n",
       "      <td>holds</td>\n",
       "      <td>2.334887</td>\n",
       "      <td>0.4</td>\n",
       "      <td>network is SAFE</td>\n",
       "    </tr>\n",
       "    <tr>\n",
       "      <th>208</th>\n",
       "      <td>8</td>\n",
       "      <td>50</td>\n",
       "      <td>29</td>\n",
       "      <td>4096</td>\n",
       "      <td>random_iid</td>\n",
       "      <td>1</td>\n",
       "      <td>1</td>\n",
       "      <td>bbc48389-7edf-49b0-aa08-24607fb82d46</td>\n",
       "      <td>0.003841</td>\n",
       "      <td>0.003841</td>\n",
       "      <td>...</td>\n",
       "      <td>2.0</td>\n",
       "      <td>network is SAFE</td>\n",
       "      <td>violated</td>\n",
       "      <td>2.231696</td>\n",
       "      <td>0.4</td>\n",
       "      <td>network is UNSAFE with confirmed counterexampl...</td>\n",
       "      <td>holds</td>\n",
       "      <td>1.928231</td>\n",
       "      <td>0.4</td>\n",
       "      <td>network is SAFE</td>\n",
       "    </tr>\n",
       "    <tr>\n",
       "      <th>209</th>\n",
       "      <td>8</td>\n",
       "      <td>50</td>\n",
       "      <td>30</td>\n",
       "      <td>4096</td>\n",
       "      <td>random_iid</td>\n",
       "      <td>1</td>\n",
       "      <td>1</td>\n",
       "      <td>1acfebee-6d97-4b7c-906b-c66271239621</td>\n",
       "      <td>0.007778</td>\n",
       "      <td>0.007778</td>\n",
       "      <td>...</td>\n",
       "      <td>1.6</td>\n",
       "      <td>network is SAFE</td>\n",
       "      <td>violated</td>\n",
       "      <td>2.037662</td>\n",
       "      <td>0.1</td>\n",
       "      <td>network is UNSAFE with confirmed counterexampl...</td>\n",
       "      <td>holds</td>\n",
       "      <td>2.061072</td>\n",
       "      <td>0.4</td>\n",
       "      <td>network is SAFE</td>\n",
       "    </tr>\n",
       "  </tbody>\n",
       "</table>\n",
       "<p>210 rows × 28 columns</p>\n",
       "</div>"
      ],
      "text/plain": [
       "     num_hidden_layers  hidden_layer_width  repetition  \\\n",
       "0                    2                  50           1   \n",
       "1                    2                  50           2   \n",
       "2                    2                  50           3   \n",
       "3                    2                  50           4   \n",
       "4                    2                  50           5   \n",
       "..                 ...                 ...         ...   \n",
       "205                  8                  50          26   \n",
       "206                  8                  50          27   \n",
       "207                  8                  50          28   \n",
       "208                  8                  50          29   \n",
       "209                  8                  50          30   \n",
       "\n",
       "     n_synthetic_data_points synthetic_data_sampling  tau  a_prev  \\\n",
       "0                       4096              random_iid    1       1   \n",
       "1                       4096              random_iid    1       1   \n",
       "2                       4096              random_iid    1       1   \n",
       "3                       4096              random_iid    1       1   \n",
       "4                       4096              random_iid    1       1   \n",
       "..                       ...                     ...  ...     ...   \n",
       "205                     4096              random_iid    1       1   \n",
       "206                     4096              random_iid    1       1   \n",
       "207                     4096              random_iid    1       1   \n",
       "208                     4096              random_iid    1       1   \n",
       "209                     4096              random_iid    1       1   \n",
       "\n",
       "                                     uuid      loss  mean_squared_error  ...  \\\n",
       "0    07399d08-0c10-4fc2-9755-317073445a92  0.013050            0.013050  ...   \n",
       "1    38764d7a-6da1-4b73-b9ce-553f1e3903f1  0.012713            0.012713  ...   \n",
       "2    474bc2a9-d431-460f-81df-512145f79848  0.013584            0.013584  ...   \n",
       "3    696c8570-8286-406e-ad32-c3982d89b595  0.014124            0.014124  ...   \n",
       "4    b1a914e2-445b-4926-8952-87b2e654549a  0.015040            0.015040  ...   \n",
       "..                                    ...       ...                 ...  ...   \n",
       "205  dd1e9c74-fbf5-4d6a-9323-eb57aee1077c  0.006777            0.006777  ...   \n",
       "206  d8a58de4-5315-4123-85fb-70d0b88227a9  0.003753            0.003753  ...   \n",
       "207  873480a4-234e-41a1-9182-4b80e84c5fbc  0.007547            0.007547  ...   \n",
       "208  bbc48389-7edf-49b0-aa08-24607fb82d46  0.003841            0.003841  ...   \n",
       "209  1acfebee-6d97-4b7c-906b-c66271239621  0.007778            0.007778  ...   \n",
       "\n",
       "     prop.2.reported_runtime  \\\n",
       "0                        0.7   \n",
       "1                        0.1   \n",
       "2                        0.4   \n",
       "3                        0.3   \n",
       "4                        0.2   \n",
       "..                       ...   \n",
       "205                      0.4   \n",
       "206                      1.1   \n",
       "207                      0.3   \n",
       "208                      2.0   \n",
       "209                      1.6   \n",
       "\n",
       "                                  prop.2.stdout_result prop.3.result  \\\n",
       "0                                      network is SAFE         holds   \n",
       "1    network is UNSAFE with confirmed counterexampl...         holds   \n",
       "2                                      network is SAFE         holds   \n",
       "3                                      network is SAFE         holds   \n",
       "4    network is UNSAFE with confirmed counterexampl...      violated   \n",
       "..                                                 ...           ...   \n",
       "205  network is UNSAFE with confirmed counterexampl...      violated   \n",
       "206                                    network is SAFE         holds   \n",
       "207  network is UNSAFE with confirmed counterexampl...         holds   \n",
       "208                                    network is SAFE      violated   \n",
       "209                                    network is SAFE      violated   \n",
       "\n",
       "     prop.3.python_time  prop.3.reported_runtime  \\\n",
       "0              2.014103                     -1.0   \n",
       "1              2.121153                      0.1   \n",
       "2              2.068942                     -1.0   \n",
       "3              2.280330                      0.1   \n",
       "4              2.206567                      0.1   \n",
       "..                  ...                      ...   \n",
       "205            2.096440                      0.2   \n",
       "206            1.922315                     -1.0   \n",
       "207            2.082904                      0.3   \n",
       "208            2.231696                      0.4   \n",
       "209            2.037662                      0.1   \n",
       "\n",
       "                                  prop.3.stdout_result prop.4.result  \\\n",
       "0                                                 Safe      violated   \n",
       "1                                      network is SAFE      violated   \n",
       "2                                                 Safe         holds   \n",
       "3                                      network is SAFE         holds   \n",
       "4    network is UNSAFE with confirmed counterexampl...         holds   \n",
       "..                                                 ...           ...   \n",
       "205  network is UNSAFE with confirmed counterexampl...         holds   \n",
       "206                                               Safe         holds   \n",
       "207                                    network is SAFE         holds   \n",
       "208  network is UNSAFE with confirmed counterexampl...         holds   \n",
       "209  network is UNSAFE with confirmed counterexampl...         holds   \n",
       "\n",
       "     prop.4.python_time  prop.4.reported_runtime  \\\n",
       "0              2.081646                      0.1   \n",
       "1              2.282663                      0.2   \n",
       "2              2.090867                     -1.0   \n",
       "3              1.961015                     -1.0   \n",
       "4              1.903472                     -1.0   \n",
       "..                  ...                      ...   \n",
       "205            2.241677                      0.3   \n",
       "206            1.959077                     -1.0   \n",
       "207            2.334887                      0.4   \n",
       "208            1.928231                      0.4   \n",
       "209            2.061072                      0.4   \n",
       "\n",
       "                                  prop.4.stdout_result  \n",
       "0    network is UNSAFE with confirmed counterexampl...  \n",
       "1    network is UNSAFE with confirmed counterexampl...  \n",
       "2                                                 Safe  \n",
       "3                                                 Safe  \n",
       "4                                                 Safe  \n",
       "..                                                 ...  \n",
       "205                                    network is SAFE  \n",
       "206                                               Safe  \n",
       "207                                    network is SAFE  \n",
       "208                                    network is SAFE  \n",
       "209                                    network is SAFE  \n",
       "\n",
       "[210 rows x 28 columns]"
      ]
     },
     "execution_count": 23,
     "metadata": {},
     "output_type": "execute_result"
    }
   ],
   "source": [
    "results"
   ]
  },
  {
   "cell_type": "code",
   "execution_count": 29,
   "metadata": {},
   "outputs": [
    {
     "data": {
      "image/png": "[encoded data removed]",
      "text/plain": [
       "<Figure size 432x288 with 1 Axes>"
      ]
     },
     "metadata": {
      "needs_background": "light"
     },
     "output_type": "display_data"
    }
   ],
   "source": [
    "sns.barplot(data=results, x=results[\"num_hidden_layers\"], y=\"mean_squared_error\")\n",
    "plt.yscale(\"log\")"
   ]
  },
  {
   "cell_type": "code",
   "execution_count": 30,
   "metadata": {},
   "outputs": [
    {
     "data": {
      "image/png": "[encoded data removed]",
      "text/plain": [
       "<Figure size 432x288 with 1 Axes>"
      ]
     },
     "metadata": {
      "needs_background": "light"
     },
     "output_type": "display_data"
    }
   ],
   "source": [
    "sns.barplot(data=results, x=results[\"num_hidden_layers\"], y=\"distill_mse\")\n",
    "plt.yscale(\"log\")"
   ]
  },
  {
   "cell_type": "code",
   "execution_count": 22,
   "metadata": {},
   "outputs": [
    {
     "data": {
      "image/png": "[encoded data removed]",
      "text/plain": [
       "<Figure size 432x288 with 1 Axes>"
      ]
     },
     "metadata": {
      "needs_background": "light"
     },
     "output_type": "display_data"
    }
   ],
   "source": [
    "columns = [f'prop.{p}.python_time' for p in [1,2,3,4]]\n",
    "#[results[col] > 0 for col in columns]\n",
    "\n",
    "filtered_results = results[reduce(lambda a, b: a & b, [results[col] > 0 for col in columns])]\n",
    "for column in columns:\n",
    "    sns.lineplot(x=filtered_results[\"num_hidden_layers\"], y=filtered_results[column], label=column)\n"
   ]
  },
  {
   "cell_type": "code",
   "execution_count": 47,
   "metadata": {},
   "outputs": [
    {
     "name": "stderr",
     "output_type": "stream",
     "text": [
      "/var/folders/3g/8436y4yj1r9367dvt15y6jqcdx0hcv/T/ipykernel_83739/1723549814.py:1: FutureWarning: Dropping of nuisance columns in DataFrame reductions (with 'numeric_only=None') is deprecated; in a future version this will raise TypeError.  Select only valid columns before calling the reduction.\n",
      "  improvement = (1-results/(results_teacher.mean()))*100\n"
     ]
    },
    {
     "data": {
      "text/plain": [
       "Text(0, 0.5, '% Improvement')"
      ]
     },
     "execution_count": 47,
     "metadata": {},
     "output_type": "execute_result"
    },
    {
     "data": {
      "image/png": "[encoded data removed]",
      "text/plain": [
       "<Figure size 432x288 with 1 Axes>"
      ]
     },
     "metadata": {
      "needs_background": "light"
     },
     "output_type": "display_data"
    }
   ],
   "source": [
    "improvement = (1-results/(results_teacher.mean()))*100\n",
    "\n",
    "columns = [f'prop.{p}.python_time' for p in [1,2,3,4]]\n",
    "\n",
    "for column in columns:\n",
    "    sns.lineplot(x=results[\"num_hidden_layers\"], y=improvement[column], label=column)\n",
    "\n",
    "plt.ylabel(\"% Improvement\")"
   ]
  },
  {
   "cell_type": "markdown",
   "metadata": {},
   "source": [
    "## ndata experiment"
   ]
  },
  {
   "cell_type": "code",
   "execution_count": 3,
   "metadata": {},
   "outputs": [],
   "source": [
    "experiment = \"exp_ndata_10_16_2022\"\n",
    "ndata_results = pd.read_csv(f\"./{experiment}/results.csv\")\n",
    "ndata_results_teacher = pd.read_csv(f\"./{experiment}/results.teacher.csv\")"
   ]
  },
  {
   "cell_type": "code",
   "execution_count": 6,
   "metadata": {},
   "outputs": [
    {
     "data": {
      "image/png": "[encoded data removed]",
      "text/plain": [
       "<Figure size 432x288 with 1 Axes>"
      ]
     },
     "metadata": {
      "needs_background": "light"
     },
     "output_type": "display_data"
    }
   ],
   "source": [
    "sns.barplot(data=ndata_results, x=\"n_synthetic_data_points\", y=\"mean_squared_error\")\n",
    "plt.yscale(\"log\")"
   ]
  },
  {
   "cell_type": "code",
   "execution_count": 7,
   "metadata": {},
   "outputs": [
    {
     "data": {
      "image/png": "[encoded data removed]",
      "text/plain": [
       "<Figure size 432x288 with 1 Axes>"
      ]
     },
     "metadata": {
      "needs_background": "light"
     },
     "output_type": "display_data"
    }
   ],
   "source": [
    "sns.barplot(data=ndata_results, x=\"n_synthetic_data_points\", y=\"distill_mse\")\n",
    "plt.yscale(\"log\")"
   ]
  },
  {
   "cell_type": "code",
   "execution_count": 19,
   "metadata": {},
   "outputs": [
    {
     "data": {
      "image/png": "[encoded data removed]",
      "text/plain": [
       "<Figure size 432x288 with 1 Axes>"
      ]
     },
     "metadata": {
      "needs_background": "light"
     },
     "output_type": "display_data"
    }
   ],
   "source": [
    "columns = [f'prop.{p}.python_time' for p in [1,2,3,4]]\n",
    "#[results[col] > 0 for col in columns]\n",
    "\n",
    "#filtered_results = ndata_results[reduce(lambda a, b: a & b, [ndata_results[col] > 0 for col in columns])]\n",
    "for column in columns:\n",
    "    sns.lineplot(x=ndata_results[\"n_synthetic_data_points\"], y=ndata_results[column], label=column, err_style=\"bars\")\n",
    "\n",
    "plt.xscale(\"log\")\n"
   ]
  },
  {
   "cell_type": "markdown",
   "metadata": {},
   "source": []
  }
 ],
 "metadata": {
  "kernelspec": {
   "display_name": "Python 3.9.13 ('distill-env')",
   "language": "python",
   "name": "python3"
  },
  "language_info": {
   "codemirror_mode": {
    "name": "ipython",
    "version": 3
   },
   "file_extension": ".py",
   "mimetype": "text/x-python",
   "name": "python",
   "nbconvert_exporter": "python",
   "pygments_lexer": "ipython3",
   "version": "3.9.13"
  },
  "orig_nbformat": 4,
  "vscode": {
   "interpreter": {
    "hash": "524150bdde5c6caad142be3d47661914d0eeff227b07b1b49eb623a6ebf1f1a3"
   }
  }
 },
 "nbformat": 4,
 "nbformat_minor": 2
}
