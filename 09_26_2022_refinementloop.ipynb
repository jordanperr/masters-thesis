{
 "cells": [
  {
   "cell_type": "markdown",
   "metadata": {},
   "source": [
    "## Refinement of initial results using an outer loop\n",
    "\n",
    "Plan:\n",
    "\n",
    "ACASXU\n",
    "- Look into ensemble nature of acas xu\n",
    "- Distill a trained network\n",
    "    - data-free distillation\n",
    "    - QMC method?\n",
    "- If distilled network does not match closeness property, keep distilling\n",
    "- If distilled network failed safety property, use counterexample as a new data point.\n",
    "- If both teacher and student network fail safety property, enforce it?\n",
    "\n",
    "Others\n",
    "- Images / CNN, can I detect the heirarchical split between layers? Is that caused by architecture restriction of the covariates (eg, convolution kernel)\n",
    "- XOR network, can I show that training on big network is more efficient than training on small network?\n",
    "\n",
    "\n",
    "Decisions:\n",
    "- Synthetic dataset generated once for all training, or is it re-generated at each epoch?\n",
    "- Choice in neural network (ACAS vs XOR)\n",
    "- Sampling technique (QMC, IID, Inception)\n",
    "- Training parameters including asymmetric loss functions"
   ]
  },
  {
   "cell_type": "markdown",
   "metadata": {},
   "source": []
  },
  {
   "cell_type": "code",
   "execution_count": 1,
   "metadata": {},
   "outputs": [],
   "source": [
    "import numpy as np\n",
    "import matplotlib.pyplot as plt\n",
    "import pandas as pd\n",
    "import tensorflow as tf\n",
    "\n",
    "import onnx\n",
    "import onnx_tf\n",
    "import onnxruntime\n",
    "\n",
    "rng = np.random.default_rng()"
   ]
  },
  {
   "cell_type": "code",
   "execution_count": 1,
   "metadata": {},
   "outputs": [
    {
     "ename": "NameError",
     "evalue": "name 'onnx' is not defined",
     "output_type": "error",
     "traceback": [
      "\u001b[0;31m---------------------------------------------------------------------------\u001b[0m",
      "\u001b[0;31mNameError\u001b[0m                                 Traceback (most recent call last)",
      "\u001b[1;32m/Users/jperrsau/cu-src/thesis/src/distill/09_26_2022_refinementloop.ipynb Cell 4\u001b[0m in \u001b[0;36m<cell line: 2>\u001b[0;34m()\u001b[0m\n\u001b[1;32m      <a href='vscode-notebook-cell:/Users/jperrsau/cu-src/thesis/src/distill/09_26_2022_refinementloop.ipynb#W3sZmlsZQ%3D%3D?line=0'>1</a>\u001b[0m \u001b[39m## Teacher Networks\u001b[39;00m\n\u001b[0;32m----> <a href='vscode-notebook-cell:/Users/jperrsau/cu-src/thesis/src/distill/09_26_2022_refinementloop.ipynb#W3sZmlsZQ%3D%3D?line=1'>2</a>\u001b[0m acas_xu_teacher \u001b[39m=\u001b[39m onnx\u001b[39m.\u001b[39mload(\u001b[39m\"\u001b[39m\u001b[39m/Users/jperrsau/cu-src/thesis/src/nnenum/examples/acasxu/data/ACASXU_run2a_1_1_batch_2000.onnx\u001b[39m\u001b[39m\"\u001b[39m)\n\u001b[1;32m      <a href='vscode-notebook-cell:/Users/jperrsau/cu-src/thesis/src/distill/09_26_2022_refinementloop.ipynb#W3sZmlsZQ%3D%3D?line=2'>3</a>\u001b[0m acas_xu_teacher \u001b[39m=\u001b[39m onnx_tf\u001b[39m.\u001b[39mbackend\u001b[39m.\u001b[39mprepare(acas_xu_teacher)\n",
      "\u001b[0;31mNameError\u001b[0m: name 'onnx' is not defined"
     ]
    }
   ],
   "source": [
    "## Teacher Networks\n",
    "acas_xu_teacher = onnx.load(\"/Users/jperrsau/cu-src/thesis/src/nnenum/examples/acasxu/data/ACASXU_run2a_1_1_batch_2000.onnx\")\n",
    "acas_xu_teacher = onnx_tf.backend.prepare(acas_xu_teacher)\n",
    "## Example usage of this object:\n",
    "# inputs = (rng.random((2000,1,1,5),dtype=\"float32\")-0.5)*2\n",
    "# onnx_outputs = acas_xu.run(inputs)\n",
    "# outputs = onnx_outputs.linear_7_Add"
   ]
  },
  {
   "cell_type": "code",
   "execution_count": 3,
   "metadata": {},
   "outputs": [
    {
     "name": "stdout",
     "output_type": "stream",
     "text": [
      "Model: \"sequential\"\n",
      "_________________________________________________________________\n",
      " Layer (type)                Output Shape              Param #   \n",
      "=================================================================\n",
      " dense (Dense)               (None, 200)               1200      \n",
      "                                                                 \n",
      " dense_1 (Dense)             (None, 200)               40200     \n",
      "                                                                 \n",
      " dense_2 (Dense)             (None, 5)                 1005      \n",
      "                                                                 \n",
      "=================================================================\n",
      "Total params: 42,405\n",
      "Trainable params: 42,405\n",
      "Non-trainable params: 0\n",
      "_________________________________________________________________\n"
     ]
    },
    {
     "data": {
      "text/plain": [
       "<keras.callbacks.History at 0x13e04ce20>"
      ]
     },
     "execution_count": 3,
     "metadata": {},
     "output_type": "execute_result"
    }
   ],
   "source": [
    "synthetic_inputs = (rng.random((2000,1,1,5),dtype=\"float32\")-0.5)*2\n",
    "onnx_outputs = acas_xu_teacher.run(synthetic_inputs)\n",
    "synthetic_inputs = synthetic_inputs.reshape((2000,5))\n",
    "synthetic_outputs = onnx_outputs.linear_7_Add\n",
    "\n",
    "hidden_layer_width=200\n",
    "num_hidden_layers=2\n",
    "\n",
    "## Input Layer\n",
    "layers = [\n",
    "    tf.keras.layers.Dense(\n",
    "        hidden_layer_width,\n",
    "        activation=tf.nn.relu,\n",
    "        input_shape=(5,),\n",
    "        kernel_initializer=tf.keras.initializers.GlorotUniform(),\n",
    "        bias_initializer=tf.keras.initializers.GlorotUniform()\n",
    "    )\n",
    "]\n",
    "\n",
    "## Hidden Layers\n",
    "for i in range(num_hidden_layers-1):\n",
    "    layers.append(\n",
    "        tf.keras.layers.Dense(hidden_layer_width,\n",
    "            activation=tf.nn.relu,\n",
    "            kernel_initializer=tf.keras.initializers.GlorotUniform(),\n",
    "            bias_initializer=tf.keras.initializers.GlorotUniform())\n",
    "    )\n",
    "\n",
    "## Output Layer\n",
    "layers.append(tf.keras.layers.Dense(5))\n",
    "\n",
    "student_model = tf.keras.Sequential(layers)\n",
    "\n",
    "student_model.summary()\n",
    "\n",
    "## Julian K uses an asymmetric loss function based on MSE. We use MSE here for now.\n",
    "\n",
    "student_model.compile(\n",
    "    loss=tf.keras.losses.MeanSquaredError(),\n",
    "    #loss=tf.keras.losses.KLDivergence(),\n",
    "    metrics=[tf.keras.metrics.MeanSquaredError()],\n",
    "    optimizer=tf.keras.optimizers.Adam(0.001)\n",
    ")\n",
    "\n",
    "student_model.fit(\n",
    "    x=synthetic_inputs,\n",
    "    y=synthetic_outputs,#synthetic_outputs, #- Using logits in the loss function requires a different loss metric, like KLDivergence. But I couldn't get it working immediately.\n",
    "    epochs=500,\n",
    "    batch_size=128,\n",
    "    verbose=0,\n",
    "    callbacks=[\n",
    "        tf.keras.callbacks.EarlyStopping(monitor='loss', patience=20)\n",
    "    ]\n",
    "    )"
   ]
  },
  {
   "cell_type": "code",
   "execution_count": 9,
   "metadata": {},
   "outputs": [
    {
     "data": {
      "text/plain": [
       "[<matplotlib.lines.Line2D at 0x14094cf10>]"
      ]
     },
     "execution_count": 9,
     "metadata": {},
     "output_type": "execute_result"
    },
    {
     "data": {
      "image/png": "[encoded data removed]",
      "text/plain": [
       "<Figure size 432x288 with 1 Axes>"
      ]
     },
     "metadata": {
      "needs_background": "light"
     },
     "output_type": "display_data"
    }
   ],
   "source": [
    "plt.plot(student_model.history.history['loss'])"
   ]
  },
  {
   "cell_type": "code",
   "execution_count": null,
   "metadata": {},
   "outputs": [],
   "source": [
    "while True:\n",
    "    counterexamples = []"
   ]
  }
 ],
 "metadata": {
  "kernelspec": {
   "display_name": "Python 3.9.13 ('distill-env')",
   "language": "python",
   "name": "python3"
  },
  "language_info": {
   "codemirror_mode": {
    "name": "ipython",
    "version": 3
   },
   "file_extension": ".py",
   "mimetype": "text/x-python",
   "name": "python",
   "nbconvert_exporter": "python",
   "pygments_lexer": "ipython3",
   "version": "3.9.13"
  },
  "orig_nbformat": 4,
  "vscode": {
   "interpreter": {
    "hash": "524150bdde5c6caad142be3d47661914d0eeff227b07b1b49eb623a6ebf1f1a3"
   }
  }
 },
 "nbformat": 4,
 "nbformat_minor": 2
}
